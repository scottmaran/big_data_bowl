{
 "cells": [
  {
   "cell_type": "code",
   "execution_count": 1,
   "id": "836b93ee",
   "metadata": {},
   "outputs": [],
   "source": [
    "import numpy as np\n",
    "import pandas as pd\n",
    "import json\n",
    "import pickle\n",
    "import matplotlib.pyplot as plt\n",
    "import warnings\n",
    "\n",
    "import torch\n",
    "import torch.nn as nn\n",
    "import torch.nn.functional as F\n",
    "import torch.optim as optim\n",
    "\n",
    "import torch.utils.data\n",
    "\n",
    "import matplotlib.pyplot as plt\n",
    "import os"
   ]
  },
  {
   "cell_type": "code",
   "execution_count": 2,
   "id": "aa8c3501",
   "metadata": {},
   "outputs": [
    {
     "data": {
      "text/html": [
       "<div>\n",
       "<style scoped>\n",
       "    .dataframe tbody tr th:only-of-type {\n",
       "        vertical-align: middle;\n",
       "    }\n",
       "\n",
       "    .dataframe tbody tr th {\n",
       "        vertical-align: top;\n",
       "    }\n",
       "\n",
       "    .dataframe thead th {\n",
       "        text-align: right;\n",
       "    }\n",
       "</style>\n",
       "<table border=\"1\" class=\"dataframe\">\n",
       "  <thead>\n",
       "    <tr style=\"text-align: right;\">\n",
       "      <th></th>\n",
       "      <th>season</th>\n",
       "      <th>gameId</th>\n",
       "      <th>playId</th>\n",
       "      <th>playIndex</th>\n",
       "      <th>timeIndex</th>\n",
       "      <th>state</th>\n",
       "      <th>next_state</th>\n",
       "      <th>reward</th>\n",
       "      <th>action</th>\n",
       "      <th>next_action</th>\n",
       "    </tr>\n",
       "  </thead>\n",
       "  <tbody>\n",
       "    <tr>\n",
       "      <th>0</th>\n",
       "      <td>2018</td>\n",
       "      <td>2018090600</td>\n",
       "      <td>677</td>\n",
       "      <td>0</td>\n",
       "      <td>48</td>\n",
       "      <td>[11.4, 42.67, 0.2, 3.07, 102.1, 312.17, 12.42,...</td>\n",
       "      <td>[11.39, 42.66, 0.21, 2.84, 105.48, 199.45, 11....</td>\n",
       "      <td>0.01</td>\n",
       "      <td>[0.01, 0.01, -0.01, 0.23, -3.38, 112.72]</td>\n",
       "      <td>[-0.02, 0.03, -0.26, 0.31, -8.38, 31.09]</td>\n",
       "    </tr>\n",
       "    <tr>\n",
       "      <th>1</th>\n",
       "      <td>2018</td>\n",
       "      <td>2018090600</td>\n",
       "      <td>677</td>\n",
       "      <td>0</td>\n",
       "      <td>49</td>\n",
       "      <td>[11.39, 42.66, 0.21, 2.84, 105.48, 199.45, 11....</td>\n",
       "      <td>[11.41, 42.63, 0.47, 2.53, 113.86, 168.36, 11....</td>\n",
       "      <td>0.04</td>\n",
       "      <td>[-0.02, 0.03, -0.26, 0.31, -8.38, 31.09]</td>\n",
       "      <td>[-0.04, 0.07, -0.36, 0.0, 3.17, 10.04]</td>\n",
       "    </tr>\n",
       "    <tr>\n",
       "      <th>2</th>\n",
       "      <td>2018</td>\n",
       "      <td>2018090600</td>\n",
       "      <td>677</td>\n",
       "      <td>0</td>\n",
       "      <td>50</td>\n",
       "      <td>[11.41, 42.63, 0.47, 2.53, 113.86, 168.36, 11....</td>\n",
       "      <td>[11.45, 42.56, 0.83, 2.53, 110.69, 158.32, 11....</td>\n",
       "      <td>0.08</td>\n",
       "      <td>[-0.04, 0.07, -0.36, 0.0, 3.17, 10.04]</td>\n",
       "      <td>[-0.08, 0.11, -0.49, -0.5, -6.61, 10.26]</td>\n",
       "    </tr>\n",
       "    <tr>\n",
       "      <th>3</th>\n",
       "      <td>2018</td>\n",
       "      <td>2018090600</td>\n",
       "      <td>677</td>\n",
       "      <td>0</td>\n",
       "      <td>51</td>\n",
       "      <td>[11.45, 42.56, 0.83, 2.53, 110.69, 158.32, 11....</td>\n",
       "      <td>[11.53, 42.45, 1.32, 3.03, 117.3, 148.06, 11.1...</td>\n",
       "      <td>0.14</td>\n",
       "      <td>[-0.08, 0.11, -0.49, -0.5, -6.61, 10.26]</td>\n",
       "      <td>[-0.09, 0.13, -0.38, -0.1, 2.88, 3.22]</td>\n",
       "    </tr>\n",
       "    <tr>\n",
       "      <th>4</th>\n",
       "      <td>2018</td>\n",
       "      <td>2018090600</td>\n",
       "      <td>677</td>\n",
       "      <td>0</td>\n",
       "      <td>52</td>\n",
       "      <td>[11.53, 42.45, 1.32, 3.03, 117.3, 148.06, 11.1...</td>\n",
       "      <td>[11.62, 42.32, 1.7, 3.13, 114.42, 144.84, 11.5...</td>\n",
       "      <td>0.16</td>\n",
       "      <td>[-0.09, 0.13, -0.38, -0.1, 2.88, 3.22]</td>\n",
       "      <td>[-0.16, 0.16, -0.53, -0.24, -17.77, 7.48]</td>\n",
       "    </tr>\n",
       "  </tbody>\n",
       "</table>\n",
       "</div>"
      ],
      "text/plain": [
       "  season      gameId  playId  playIndex  timeIndex  \\\n",
       "0   2018  2018090600     677          0         48   \n",
       "1   2018  2018090600     677          0         49   \n",
       "2   2018  2018090600     677          0         50   \n",
       "3   2018  2018090600     677          0         51   \n",
       "4   2018  2018090600     677          0         52   \n",
       "\n",
       "                                               state  \\\n",
       "0  [11.4, 42.67, 0.2, 3.07, 102.1, 312.17, 12.42,...   \n",
       "1  [11.39, 42.66, 0.21, 2.84, 105.48, 199.45, 11....   \n",
       "2  [11.41, 42.63, 0.47, 2.53, 113.86, 168.36, 11....   \n",
       "3  [11.45, 42.56, 0.83, 2.53, 110.69, 158.32, 11....   \n",
       "4  [11.53, 42.45, 1.32, 3.03, 117.3, 148.06, 11.1...   \n",
       "\n",
       "                                          next_state  reward  \\\n",
       "0  [11.39, 42.66, 0.21, 2.84, 105.48, 199.45, 11....    0.01   \n",
       "1  [11.41, 42.63, 0.47, 2.53, 113.86, 168.36, 11....    0.04   \n",
       "2  [11.45, 42.56, 0.83, 2.53, 110.69, 158.32, 11....    0.08   \n",
       "3  [11.53, 42.45, 1.32, 3.03, 117.3, 148.06, 11.1...    0.14   \n",
       "4  [11.62, 42.32, 1.7, 3.13, 114.42, 144.84, 11.5...    0.16   \n",
       "\n",
       "                                     action  \\\n",
       "0  [0.01, 0.01, -0.01, 0.23, -3.38, 112.72]   \n",
       "1  [-0.02, 0.03, -0.26, 0.31, -8.38, 31.09]   \n",
       "2    [-0.04, 0.07, -0.36, 0.0, 3.17, 10.04]   \n",
       "3  [-0.08, 0.11, -0.49, -0.5, -6.61, 10.26]   \n",
       "4    [-0.09, 0.13, -0.38, -0.1, 2.88, 3.22]   \n",
       "\n",
       "                                 next_action  \n",
       "0   [-0.02, 0.03, -0.26, 0.31, -8.38, 31.09]  \n",
       "1     [-0.04, 0.07, -0.36, 0.0, 3.17, 10.04]  \n",
       "2   [-0.08, 0.11, -0.49, -0.5, -6.61, 10.26]  \n",
       "3     [-0.09, 0.13, -0.38, -0.1, 2.88, 3.22]  \n",
       "4  [-0.16, 0.16, -0.53, -0.24, -17.77, 7.48]  "
      ]
     },
     "execution_count": 2,
     "metadata": {},
     "output_type": "execute_result"
    }
   ],
   "source": [
    "data_df = pd.read_pickle('datasets/all_players_rel_all_actions_group_team_six_action_state.pkl')\n",
    "\n",
    "data_df.head()"
   ]
  },
  {
   "cell_type": "code",
   "execution_count": null,
   "id": "7d03deaa",
   "metadata": {},
   "outputs": [],
   "source": []
  },
  {
   "cell_type": "code",
   "execution_count": 3,
   "id": "e2aca24a",
   "metadata": {},
   "outputs": [
    {
     "name": "stdout",
     "output_type": "stream",
     "text": [
      "Index(['season', 'gameId', 'playId', 'playIndex', 'timeIndex', 'state',\n",
      "       'next_state', 'reward', 'action', 'next_action'],\n",
      "      dtype='object')\n",
      "Length of training data: 154821\n"
     ]
    }
   ],
   "source": [
    "'''\n",
    "Function that splits the data into a training, validation, and test set\n",
    "'''\n",
    "def split_data(dataset, train_split, seed):\n",
    "    np.random.seed(seed)\n",
    "    indices = list(range(len(dataset)))\n",
    "    np.random.shuffle(indices)\n",
    "\n",
    "    train_num = int(len(dataset)*train_split)\n",
    "    val_num = (len(dataset) - int(len(dataset)*train_split))//2\n",
    "\n",
    "    train_indices = indices[0:train_num]\n",
    "    val_indices = indices[train_num:train_num+val_num]\n",
    "    test_indices = indices[train_num+val_num:]\n",
    "\n",
    "    #check to make sure slices correct\n",
    "    assert len(dataset) == len(train_indices) + len(val_indices) + len(test_indices)\n",
    "\n",
    "    #dataset = help.normalize(train_indices, dataset)\n",
    "\n",
    "    train_data = dataset.iloc[train_indices,:]\n",
    "    val_data = dataset.iloc[val_indices,:]\n",
    "    test_data = dataset.iloc[test_indices,:]\n",
    "\n",
    "    return train_data, val_data, test_data\n",
    "\n",
    "train_data, val_data, test_data = split_data(data_df, 0.7, 2430)\n",
    "\n",
    "print(test_data.columns)\n",
    "\n",
    "print(f\"Length of training data: {len(train_data)}\")"
   ]
  },
  {
   "cell_type": "code",
   "execution_count": 4,
   "id": "5ad8eb47",
   "metadata": {},
   "outputs": [
    {
     "data": {
      "text/html": [
       "<div>\n",
       "<style scoped>\n",
       "    .dataframe tbody tr th:only-of-type {\n",
       "        vertical-align: middle;\n",
       "    }\n",
       "\n",
       "    .dataframe tbody tr th {\n",
       "        vertical-align: top;\n",
       "    }\n",
       "\n",
       "    .dataframe thead th {\n",
       "        text-align: right;\n",
       "    }\n",
       "</style>\n",
       "<table border=\"1\" class=\"dataframe\">\n",
       "  <thead>\n",
       "    <tr style=\"text-align: right;\">\n",
       "      <th></th>\n",
       "      <th>season</th>\n",
       "      <th>gameId</th>\n",
       "      <th>playId</th>\n",
       "      <th>playIndex</th>\n",
       "      <th>timeIndex</th>\n",
       "      <th>state</th>\n",
       "      <th>next_state</th>\n",
       "      <th>reward</th>\n",
       "      <th>action</th>\n",
       "      <th>next_action</th>\n",
       "    </tr>\n",
       "  </thead>\n",
       "  <tbody>\n",
       "    <tr>\n",
       "      <th>71971</th>\n",
       "      <td>2018</td>\n",
       "      <td>2018122400</td>\n",
       "      <td>241</td>\n",
       "      <td>1393</td>\n",
       "      <td>217</td>\n",
       "      <td>[50.39, 50.93, 9.23, 1.11, 264.59, 271.15, 50....</td>\n",
       "      <td>[49.46, 50.96, 9.23, 1.04, 265.35, 271.57, 49....</td>\n",
       "      <td>0.93</td>\n",
       "      <td>[0.93, -0.03, 0.0, 0.07, -0.76, -0.42]</td>\n",
       "      <td>[0.93, -0.03, -0.02, 0.01, -2.67, -0.44]</td>\n",
       "    </tr>\n",
       "    <tr>\n",
       "      <th>120674</th>\n",
       "      <td>2019</td>\n",
       "      <td>2019111707</td>\n",
       "      <td>754</td>\n",
       "      <td>2340</td>\n",
       "      <td>92</td>\n",
       "      <td>[41.87, 35.12, 5.94, 5.62, 66.76, 40.92, 42.0,...</td>\n",
       "      <td>[42.24, 35.6, 6.1, 5.41, 54.33, 34.81, 42.4, 3...</td>\n",
       "      <td>0.60</td>\n",
       "      <td>[-0.37, -0.48, -0.16, 0.21, 12.43, 6.11]</td>\n",
       "      <td>[-0.32, -0.52, -0.1, 0.46, 13.39, 5.69]</td>\n",
       "    </tr>\n",
       "    <tr>\n",
       "      <th>42647</th>\n",
       "      <td>2018</td>\n",
       "      <td>2018111109</td>\n",
       "      <td>36</td>\n",
       "      <td>832</td>\n",
       "      <td>89</td>\n",
       "      <td>[28.05, 28.02, 6.07, 2.64, 78.14, 136.12, 28.2...</td>\n",
       "      <td>[28.43, 27.6, 5.62, 3.32, 66.46, 137.72, 28.69...</td>\n",
       "      <td>0.57</td>\n",
       "      <td>[-0.38, 0.42, 0.45, -0.68, 11.68, -1.6]</td>\n",
       "      <td>[-0.29, 0.39, 0.79, -1.29, 9.87, -4.58]</td>\n",
       "    </tr>\n",
       "    <tr>\n",
       "      <th>150029</th>\n",
       "      <td>2019</td>\n",
       "      <td>2019122908</td>\n",
       "      <td>3355</td>\n",
       "      <td>2919</td>\n",
       "      <td>126</td>\n",
       "      <td>[31.09, 12.59, 7.39, 0.52, 130.78, 170.44, 31....</td>\n",
       "      <td>[31.22, 11.85, 7.49, 0.29, 131.54, 170.41, 31....</td>\n",
       "      <td>0.75</td>\n",
       "      <td>[-0.13, 0.74, -0.1, 0.23, -0.76, 0.03]</td>\n",
       "      <td>[-0.12, 0.75, -0.13, -0.1, 0.0, -0.41]</td>\n",
       "    </tr>\n",
       "    <tr>\n",
       "      <th>154546</th>\n",
       "      <td>2020</td>\n",
       "      <td>2020091310</td>\n",
       "      <td>3298</td>\n",
       "      <td>3003</td>\n",
       "      <td>109</td>\n",
       "      <td>[38.7, 47.07, 3.09, 4.23, 4.0, 46.57, 38.86, 4...</td>\n",
       "      <td>[38.9, 47.27, 2.47, 4.73, 10.97, 51.91, 39.05,...</td>\n",
       "      <td>0.28</td>\n",
       "      <td>[-0.2, -0.2, 0.62, -0.5, -6.97, -5.34]</td>\n",
       "      <td>[-0.2, -0.1, 0.66, -0.73, -6.56, -11.86]</td>\n",
       "    </tr>\n",
       "  </tbody>\n",
       "</table>\n",
       "</div>"
      ],
      "text/plain": [
       "       season      gameId  playId  playIndex  timeIndex  \\\n",
       "71971    2018  2018122400     241       1393        217   \n",
       "120674   2019  2019111707     754       2340         92   \n",
       "42647    2018  2018111109      36        832         89   \n",
       "150029   2019  2019122908    3355       2919        126   \n",
       "154546   2020  2020091310    3298       3003        109   \n",
       "\n",
       "                                                    state  \\\n",
       "71971   [50.39, 50.93, 9.23, 1.11, 264.59, 271.15, 50....   \n",
       "120674  [41.87, 35.12, 5.94, 5.62, 66.76, 40.92, 42.0,...   \n",
       "42647   [28.05, 28.02, 6.07, 2.64, 78.14, 136.12, 28.2...   \n",
       "150029  [31.09, 12.59, 7.39, 0.52, 130.78, 170.44, 31....   \n",
       "154546  [38.7, 47.07, 3.09, 4.23, 4.0, 46.57, 38.86, 4...   \n",
       "\n",
       "                                               next_state  reward  \\\n",
       "71971   [49.46, 50.96, 9.23, 1.04, 265.35, 271.57, 49....    0.93   \n",
       "120674  [42.24, 35.6, 6.1, 5.41, 54.33, 34.81, 42.4, 3...    0.60   \n",
       "42647   [28.43, 27.6, 5.62, 3.32, 66.46, 137.72, 28.69...    0.57   \n",
       "150029  [31.22, 11.85, 7.49, 0.29, 131.54, 170.41, 31....    0.75   \n",
       "154546  [38.9, 47.27, 2.47, 4.73, 10.97, 51.91, 39.05,...    0.28   \n",
       "\n",
       "                                          action  \\\n",
       "71971     [0.93, -0.03, 0.0, 0.07, -0.76, -0.42]   \n",
       "120674  [-0.37, -0.48, -0.16, 0.21, 12.43, 6.11]   \n",
       "42647    [-0.38, 0.42, 0.45, -0.68, 11.68, -1.6]   \n",
       "150029    [-0.13, 0.74, -0.1, 0.23, -0.76, 0.03]   \n",
       "154546    [-0.2, -0.2, 0.62, -0.5, -6.97, -5.34]   \n",
       "\n",
       "                                     next_action  \n",
       "71971   [0.93, -0.03, -0.02, 0.01, -2.67, -0.44]  \n",
       "120674   [-0.32, -0.52, -0.1, 0.46, 13.39, 5.69]  \n",
       "42647    [-0.29, 0.39, 0.79, -1.29, 9.87, -4.58]  \n",
       "150029    [-0.12, 0.75, -0.13, -0.1, 0.0, -0.41]  \n",
       "154546  [-0.2, -0.1, 0.66, -0.73, -6.56, -11.86]  "
      ]
     },
     "execution_count": 4,
     "metadata": {},
     "output_type": "execute_result"
    }
   ],
   "source": [
    "train_data.head()"
   ]
  },
  {
   "cell_type": "code",
   "execution_count": 5,
   "id": "e1f64892",
   "metadata": {},
   "outputs": [],
   "source": [
    "def test_loop(test_df, model, loss_fn, device):\n",
    "    size = len(test_df)\n",
    "    test_loss = 0\n",
    "    \n",
    "    with torch.no_grad():\n",
    "        for row_index in range(0,len(test_df)):\n",
    "\n",
    "            play = test_df.iloc[row_index, :]\n",
    "\n",
    "            true_state = torch.tensor(play['state'], dtype=torch.float32).to(device=device)\n",
    "            true_action = torch.tensor(play['action'], dtype=torch.float32).to(device=device)\n",
    "            \n",
    "            # useful for if testing in batches\n",
    "            #true_state = torch.tensor(np.stack(play['state'].values), dtype=torch.float32).to(device=device)\n",
    "            #true_action = torch.tensor(np.stack(play['action'].values), dtype=torch.float32).to(device=device)\n",
    "\n",
    "            numpy_state_input = play['state'].reshape(1, 1, -1, action_size)\n",
    "                           \n",
    "            true_state_mod = torch.tensor(numpy_state_input, dtype=torch.float32).to(device=device)\n",
    "            \n",
    "            \n",
    "            # do this because forget to replace nans in next state in dataset construction\n",
    "            #next_state = torch.nan_to_num(next_state, nan=0)\n",
    "\n",
    "            # Why does a state have nan values?\n",
    "            #state = torch.nan_to_num(state, nan=0)\n",
    "\n",
    "            model.eval()  # put model to eval mode\n",
    "\n",
    "            #compute prediction and loss\n",
    "            predicted_action = model(true_state_mod)\n",
    "            \n",
    "            true_action = torch.unsqueeze(true_action, 0)\n",
    "            \n",
    "            loss = loss_fn(predicted_action, true_action)\n",
    "            \n",
    "            test_loss += loss\n",
    "        \n",
    "        test_loss /= size\n",
    "\n",
    "    \n",
    "    return test_loss"
   ]
  },
  {
   "cell_type": "code",
   "execution_count": null,
   "id": "2c7fe8a2",
   "metadata": {},
   "outputs": [],
   "source": []
  },
  {
   "cell_type": "code",
   "execution_count": 5,
   "id": "0e58ac27",
   "metadata": {},
   "outputs": [],
   "source": [
    "'''\n",
    "Given indices, train model on batch\n",
    "'''\n",
    "def train_loop(df, indices, model, loss_fn, optimizer, device):\n",
    "    size = len(indices)\n",
    "    play = df.iloc[indices, :]\n",
    "    \n",
    "    numpy_state = np.stack(play['state'].values)\n",
    "    batch_size = numpy_state.shape[0]\n",
    "    numpy_state_input = numpy_state.reshape(batch_size, 1, -1, action_size)\n",
    "                           \n",
    "\n",
    "    true_state = torch.tensor(numpy_state, dtype=torch.float32).to(device=device)\n",
    "    true_action = torch.tensor(np.stack(play['action'].values), dtype=torch.float32).to(device=device)\n",
    "    \n",
    "    # shape true state into matrix to pass into CNN\n",
    "    #true_state_mod = true_state.reshape(batch_size, -1, len(true_action))\n",
    "    true_state_mod = torch.tensor(numpy_state_input, dtype=torch.float32).to(device=device)\n",
    "    \n",
    "    # do this because forget to replace nans in next state in dataset construction\n",
    "    #next_state = torch.nan_to_num(next_state, nan=0)\n",
    "\n",
    "    # Why does a state have nan values?\n",
    "    #state = torch.nan_to_num(state, nan=0)\n",
    "\n",
    "    model.train()  # put model to training mode\n",
    "\n",
    "    #compute prediction and loss\n",
    "    predicted_action = model(true_state_mod)\n",
    "    \n",
    "    loss = loss_fn(predicted_action, true_action)\n",
    "\n",
    "    #Backpropagation\n",
    "    optimizer.zero_grad()\n",
    "    loss.backward()\n",
    "    optimizer.step()\n",
    "    \n",
    "    return loss"
   ]
  },
  {
   "cell_type": "code",
   "execution_count": 6,
   "id": "432449a6",
   "metadata": {},
   "outputs": [
    {
     "name": "stdout",
     "output_type": "stream",
     "text": [
      "cuda\n"
     ]
    }
   ],
   "source": [
    "device = 'cuda' if torch.cuda.is_available() else 'cpu'\n",
    "\n",
    "print(device)"
   ]
  },
  {
   "cell_type": "code",
   "execution_count": 7,
   "id": "494b6750",
   "metadata": {},
   "outputs": [
    {
     "name": "stdout",
     "output_type": "stream",
     "text": [
      "State size: 138\n",
      "Action size: 6\n"
     ]
    },
    {
     "data": {
      "text/plain": [
       "Sequential(\n",
       "  (0): Conv2d(1, 12, kernel_size=(12, 1), stride=(1, 1))\n",
       "  (1): LeakyReLU(negative_slope=0.01)\n",
       "  (2): Conv2d(12, 24, kernel_size=(6, 1), stride=(1, 1))\n",
       "  (3): LeakyReLU(negative_slope=0.01)\n",
       "  (4): Conv2d(24, 48, kernel_size=(1, 1), stride=(1, 1))\n",
       "  (5): Flatten(start_dim=1, end_dim=-1)\n",
       "  (6): Linear(in_features=2016, out_features=6, bias=True)\n",
       ")"
      ]
     },
     "execution_count": 7,
     "metadata": {},
     "output_type": "execute_result"
    }
   ],
   "source": [
    "'''\n",
    "Define models\n",
    "'''\n",
    "\n",
    "'''\n",
    "Input: Takes in a (state,action) pair\n",
    "Output: Outputs a Q-score\n",
    "\n",
    "class CNN(nn.Module):\n",
    "    def __init__(self, num_people, state_size, action_size):\n",
    "        super(CNN, self).__init__()\n",
    "        \n",
    "        self.num_people = num_people\n",
    "        self.state_size = state_size\n",
    "        self.action_size = action_size\n",
    "        \n",
    "        self.layer2_size = (state_size+action_size)*2\n",
    "        \n",
    "        #self.batch_initial = nn.BatchNorm1d(state_size+action_size)\n",
    "        self.batch1 = nn.BatchNorm1d(self.layer2_size)\n",
    "        self.linear1 = nn.Linear(state_size+action_size, self.layer2_size)\n",
    "        self.linear2 = nn.Linear(self.layer2_size, 1)\n",
    "        \n",
    "        self.relu = nn.ReLU()\n",
    "        \n",
    "    def forward(self, inp):\n",
    "        \n",
    "        #inp = self.batch_initial(inp)\n",
    "        \n",
    "        layer1_output = self.relu(self.batch1(self.linear1(inp)))\n",
    "        output = self.linear2(layer1_output)\n",
    "        return output\n",
    "'''\n",
    "\n",
    "'''\n",
    "Define hyperparamters\n",
    "'''\n",
    "BATCH_SIZE = 128\n",
    "iterations = 25000\n",
    "state_size = len(data_df.loc[0,'state'])\n",
    "action_size = 6\n",
    "gamma = 0.99\n",
    "#max_action = torch.tensor(max_action, dtype=torch.float32).to(device=device)\n",
    "\n",
    "print(f\"State size: {state_size}\")\n",
    "print(f\"Action size: {action_size}\")\n",
    "    \n",
    "'''\n",
    "cnn_model = nn.Sequential(\n",
    "    nn.Conv2d(1, 8, (12,1), stride=1,padding=0),\n",
    "    nn.LeakyReLU(),\n",
    "    nn.Conv2d(8, 4, (6, 1)),\n",
    "    nn.LeakyReLU(),\n",
    "    nn.Conv2d(4,1, (1,action_size)),\n",
    "    nn.Flatten(),\n",
    "    nn.Linear(7,action_size)\n",
    ")\n",
    "'''\n",
    "\n",
    "cnn_model = nn.Sequential(\n",
    "    nn.Conv2d(1, 12, (12,1), stride=1, padding=0),\n",
    "    nn.LeakyReLU(),\n",
    "    nn.Conv2d(12, 24, (6, 1)),\n",
    "    nn.LeakyReLU(),\n",
    "    nn.Conv2d(24, 48, (1,1)),\n",
    "    nn.Flatten(),\n",
    "    nn.Linear(48*7*6,action_size)\n",
    ")\n",
    "\n",
    "cnn_model.to(device=device)\n",
    "    "
   ]
  },
  {
   "cell_type": "code",
   "execution_count": 8,
   "id": "9f59f4f0",
   "metadata": {},
   "outputs": [],
   "source": [
    "# create models\n",
    "#cnn_model = CNN(state_size, action_size, max_action).to(device=device)\n",
    "\n",
    "# define loss function\n",
    "mse_loss_fn = nn.MSELoss()\n",
    "# define optimizers\n",
    "cnn_optimizer = optim.Adam(cnn_model.parameters())"
   ]
  },
  {
   "cell_type": "code",
   "execution_count": 10,
   "id": "10c4c0e9",
   "metadata": {},
   "outputs": [
    {
     "name": "stdout",
     "output_type": "stream",
     "text": [
      "Num batches: 1210\n",
      "At epoch 0, iter 0: train loss = 662.260986328125\n",
      "At epoch 0, iter 0: val loss = 584.028076171875\n",
      "At epoch 0, iter 403: train loss = 262.66314697265625\n",
      "At epoch 0, iter 403: val loss = 389.967529296875\n",
      "At epoch 0, iter 806: train loss = 457.96490478515625\n",
      "At epoch 0, iter 806: val loss = 387.2698669433594\n",
      "At epoch 0, iter 1209: train loss = 342.30694580078125\n",
      "At epoch 0, iter 1209: val loss = 387.0239562988281\n",
      "At epoch 1, iter 0: train loss = 434.3843994140625\n",
      "At epoch 1, iter 0: val loss = 386.1576843261719\n",
      "At epoch 1, iter 403: train loss = 286.12359619140625\n",
      "At epoch 1, iter 403: val loss = 388.03704833984375\n",
      "At epoch 1, iter 806: train loss = 421.2496032714844\n",
      "At epoch 1, iter 806: val loss = 386.3711242675781\n",
      "At epoch 1, iter 1209: train loss = 792.4215698242188\n",
      "At epoch 1, iter 1209: val loss = 385.07843017578125\n",
      "At epoch 2, iter 0: train loss = 902.8453369140625\n",
      "At epoch 2, iter 0: val loss = 385.06658935546875\n",
      "At epoch 2, iter 403: train loss = 429.87689208984375\n",
      "At epoch 2, iter 403: val loss = 385.1775207519531\n",
      "At epoch 2, iter 806: train loss = 699.88818359375\n",
      "At epoch 2, iter 806: val loss = 385.6387023925781\n",
      "At epoch 2, iter 1209: train loss = 567.4156494140625\n",
      "At epoch 2, iter 1209: val loss = 385.61602783203125\n",
      "At epoch 3, iter 0: train loss = 474.47998046875\n",
      "At epoch 3, iter 0: val loss = 385.8116149902344\n",
      "At epoch 3, iter 403: train loss = 202.39874267578125\n",
      "At epoch 3, iter 403: val loss = 384.1959228515625\n",
      "At epoch 3, iter 806: train loss = 297.4686584472656\n",
      "At epoch 3, iter 806: val loss = 383.0198059082031\n",
      "At epoch 3, iter 1209: train loss = 1018.1942749023438\n",
      "At epoch 3, iter 1209: val loss = 380.5177001953125\n",
      "At epoch 4, iter 0: train loss = 231.29769897460938\n",
      "At epoch 4, iter 0: val loss = 380.6226501464844\n",
      "At epoch 4, iter 403: train loss = 471.52886962890625\n",
      "At epoch 4, iter 403: val loss = 380.0603942871094\n",
      "At epoch 4, iter 806: train loss = 482.976806640625\n",
      "At epoch 4, iter 806: val loss = 378.16021728515625\n",
      "At epoch 4, iter 1209: train loss = 54.74081039428711\n",
      "At epoch 4, iter 1209: val loss = 377.1459655761719\n",
      "At epoch 5, iter 0: train loss = 448.5395202636719\n",
      "At epoch 5, iter 0: val loss = 377.1054992675781\n",
      "At epoch 5, iter 403: train loss = 391.05450439453125\n",
      "At epoch 5, iter 403: val loss = 375.740234375\n",
      "At epoch 5, iter 806: train loss = 351.4251708984375\n",
      "At epoch 5, iter 806: val loss = 373.07989501953125\n",
      "At epoch 5, iter 1209: train loss = 152.55056762695312\n",
      "At epoch 5, iter 1209: val loss = 372.7542724609375\n",
      "At epoch 6, iter 0: train loss = 243.28433227539062\n",
      "At epoch 6, iter 0: val loss = 373.2539367675781\n",
      "At epoch 6, iter 403: train loss = 339.49688720703125\n",
      "At epoch 6, iter 403: val loss = 371.4424133300781\n",
      "At epoch 6, iter 806: train loss = 385.76995849609375\n",
      "At epoch 6, iter 806: val loss = 370.5267028808594\n",
      "At epoch 6, iter 1209: train loss = 106.74706268310547\n",
      "At epoch 6, iter 1209: val loss = 371.5074768066406\n"
     ]
    }
   ],
   "source": [
    "import random\n",
    "\n",
    "epochs = 7\n",
    "break_var = False\n",
    "training_loss_list = []\n",
    "val_loss_list = []\n",
    "\n",
    "num_batches = int(len(train_data)/BATCH_SIZE)+1\n",
    "\n",
    "print(f\"Num batches: {num_batches}\")\n",
    "\n",
    "indexes = list(range(0,len(train_data)))\n",
    "\n",
    "np.random.seed(2430)\n",
    "\n",
    "\n",
    "for k in range(epochs):\n",
    "    \n",
    "    random.shuffle(indexes)\n",
    "    \n",
    "    for i in range(num_batches):\n",
    "\n",
    "        start_index = i*BATCH_SIZE\n",
    "        end_index = min(len(train_data), (i+1)*BATCH_SIZE)\n",
    "        \n",
    "        #indices = list(range(start_index, end_index))\n",
    "        indices = indexes[start_index:end_index]\n",
    "\n",
    "        train_loss = train_loop(train_data, indices, cnn_model, mse_loss_fn, cnn_optimizer, device)\n",
    "        \n",
    "        training_loss_list.append(train_loss)\n",
    "\n",
    "        if (i % int(num_batches/3) == 0): #and (i != 0):\n",
    "            val_loss = test_loop(val_data, cnn_model, F.mse_loss, device)\n",
    "            val_loss_list.append(val_loss)\n",
    "            print(f\"At epoch {k}, iter {i}: train loss = {train_loss}\")\n",
    "            print(f\"At epoch {k}, iter {i}: val loss = {val_loss}\")"
   ]
  },
  {
   "cell_type": "code",
   "execution_count": 11,
   "id": "f56cfe33",
   "metadata": {},
   "outputs": [],
   "source": [
    "\n",
    "torch.save(cnn_model.state_dict(), 'saved_models/cnn_model_3.pt')"
   ]
  },
  {
   "cell_type": "code",
   "execution_count": 13,
   "id": "8feed916",
   "metadata": {},
   "outputs": [
    {
     "data": {
      "image/png": "[encoded data removed]",
      "text/plain": [
       "<Figure size 432x288 with 1 Axes>"
      ]
     },
     "metadata": {
      "needs_background": "light"
     },
     "output_type": "display_data"
    },
    {
     "data": {
      "image/png": "[encoded data removed]",
      "text/plain": [
       "<Figure size 432x288 with 1 Axes>"
      ]
     },
     "metadata": {
      "needs_background": "light"
     },
     "output_type": "display_data"
    }
   ],
   "source": [
    "def plot_history(history_list, metric, filename):\n",
    "    \n",
    "    fig, ax = plt.subplots()\n",
    "\n",
    "    # plotting\n",
    "    ax.plot(list(range(1,len(history_list)+1)), history_list)\n",
    "    plt.title(\"Training Curve\")\n",
    "    plt.xlabel(\"Epochs\")\n",
    "    plt.ylabel(f\"{metric}\")\n",
    "    plt.show()\n",
    "\n",
    "    #file_path = os.path.join(os.path.dirname(os.path.abspath(__file__)), filename)\n",
    "    fig.savefig(filename)\n",
    "    \n",
    "new_val_list = [x.detach().cpu() for x in val_loss_list]\n",
    "    \n",
    "plot_history(new_val_list, metric='MSE CNN Val Loss', filename='training_plots/cnn_model_2.png')\n",
    "plot_history(new_val_list[1:], metric='MSE CNN Val Loss', filename='training_plots/cnn_model_2_no_first_entry.png')"
   ]
  },
  {
   "cell_type": "code",
   "execution_count": null,
   "id": "942c86ed",
   "metadata": {},
   "outputs": [],
   "source": []
  },
  {
   "cell_type": "code",
   "execution_count": 8,
   "id": "4acccf5a",
   "metadata": {},
   "outputs": [
    {
     "data": {
      "text/plain": [
       "Sequential(\n",
       "  (0): Conv2d(1, 12, kernel_size=(12, 1), stride=(1, 1))\n",
       "  (1): LeakyReLU(negative_slope=0.01)\n",
       "  (2): Conv2d(12, 24, kernel_size=(6, 1), stride=(1, 1))\n",
       "  (3): LeakyReLU(negative_slope=0.01)\n",
       "  (4): Conv2d(24, 48, kernel_size=(1, 1), stride=(1, 1))\n",
       "  (5): Flatten(start_dim=1, end_dim=-1)\n",
       "  (6): Linear(in_features=2016, out_features=6, bias=True)\n",
       ")"
      ]
     },
     "execution_count": 8,
     "metadata": {},
     "output_type": "execute_result"
    }
   ],
   "source": [
    "cnn_model.load_state_dict(torch.load(\"saved_models/cnn_model_2.pt\"))\n",
    "cnn_model.eval()"
   ]
  },
  {
   "cell_type": "code",
   "execution_count": 9,
   "id": "48434165",
   "metadata": {},
   "outputs": [],
   "source": [
    "def compare_actions(df, row_index, cnn_model, verbose=False, save=False):\n",
    "    \n",
    "    play = df.iloc[row_index, :]\n",
    "\n",
    "    numpy_state_input = play['state'].reshape(1, 1, -1, action_size)\n",
    "    true_state_mod = torch.tensor(numpy_state_input, dtype=torch.float32).to(device=device)\n",
    "    \n",
    "    cnn_model.eval()\n",
    "    next_action = cnn_model(true_state_mod).detach().cpu()\n",
    "    \n",
    "    print(f\"next action: {next_action}\")\n",
    "    \n",
    "    true_action = play['action']\n",
    "    print(f\"true action: {true_action}\")\n",
    "\n",
    "    fig, ax = plt.subplots()\n",
    "\n",
    "    ax.scatter(true_action[0], true_action[1], c='red', s=50)\n",
    "    ax.scatter(next_action[0,0], next_action[0,1], c='blue', s=50)\n",
    "    ax.annotate('TRUE', (true_action[0], true_action[1]) )\n",
    "    #ax.annotate('PREDICTED', (actor_next_action[0,0].detach().cpu(), actor_next_action[0,1].detach().cpu()))\n",
    "    plt.title(\"True vs Predicted Action\")\n",
    "    plt.xlabel(\"X pos\")\n",
    "    plt.ylabel(\"Y pos\")\n",
    "    plt.xlim(-3,3)\n",
    "    plt.ylim(-3,3)\n",
    "\n",
    "    if save:\n",
    "        plt.savefig(\"general_images/cnn2_prediction.png\")\n",
    "    plt.show()"
   ]
  },
  {
   "cell_type": "code",
   "execution_count": 18,
   "id": "8f57ac7a",
   "metadata": {},
   "outputs": [
    {
     "name": "stdout",
     "output_type": "stream",
     "text": [
      "next action: tensor([[ 0.3335,  0.2886,  0.2315,  0.0350,  2.4803, -4.8323]])\n",
      "true action: [ 0.15  0.42  0.28  0.03 -1.09 -3.03]\n"
     ]
    },
    {
     "data": {
      "image/png": "[encoded data removed]",
      "text/plain": [
       "<Figure size 432x288 with 1 Axes>"
      ]
     },
     "metadata": {
      "needs_background": "light"
     },
     "output_type": "display_data"
    },
    {
     "name": "stdout",
     "output_type": "stream",
     "text": [
      "next action: tensor([[-0.3686,  0.3426,  0.0435, -0.0698, -4.7020, -2.5546]])\n",
      "true action: [-0.76  0.55  0.07 -0.71  5.92  2.66]\n"
     ]
    },
    {
     "data": {
      "image/png": "[encoded data removed]",
      "text/plain": [
       "<Figure size 432x288 with 1 Axes>"
      ]
     },
     "metadata": {
      "needs_background": "light"
     },
     "output_type": "display_data"
    },
    {
     "name": "stdout",
     "output_type": "stream",
     "text": [
      "next action: tensor([[-0.1747,  0.3316,  0.0858,  0.0747, -4.3499,  1.0469]])\n",
      "true action: [-0.16  0.51 -0.37  0.57  1.06 -1.09]\n"
     ]
    },
    {
     "data": {
      "image/png": "[encoded data removed]",
      "text/plain": [
       "<Figure size 432x288 with 1 Axes>"
      ]
     },
     "metadata": {
      "needs_background": "light"
     },
     "output_type": "display_data"
    },
    {
     "name": "stdout",
     "output_type": "stream",
     "text": [
      "next action: tensor([[ -0.2549,  -0.1239,   0.2160,   0.0966,  -9.4420, -11.5020]])\n",
      "true action: [-0.51 -0.32  0.25  0.62  0.   -3.79]\n"
     ]
    },
    {
     "data": {
      "image/png": "[encoded data removed]",
      "text/plain": [
       "<Figure size 432x288 with 1 Axes>"
      ]
     },
     "metadata": {
      "needs_background": "light"
     },
     "output_type": "display_data"
    },
    {
     "name": "stdout",
     "output_type": "stream",
     "text": [
      "next action: tensor([[ 0.6085, -0.5398,  0.2262, -0.0404,  7.7011,  1.8925]])\n",
      "true action: [ 0.08 -0.54  0.52 -0.54  9.95  4.6 ]\n"
     ]
    },
    {
     "data": {
      "image/png": "[encoded data removed]",
      "text/plain": [
       "<Figure size 432x288 with 1 Axes>"
      ]
     },
     "metadata": {
      "needs_background": "light"
     },
     "output_type": "display_data"
    },
    {
     "name": "stdout",
     "output_type": "stream",
     "text": [
      "next action: tensor([[ 0.4647,  0.0605,  0.1610,  0.0025,  0.2223, -1.1571]])\n",
      "true action: [ 0.52  0.11 -0.22  0.81  5.94 -0.65]\n"
     ]
    },
    {
     "data": {
      "image/png": "[encoded data removed]",
      "text/plain": [
       "<Figure size 432x288 with 1 Axes>"
      ]
     },
     "metadata": {
      "needs_background": "light"
     },
     "output_type": "display_data"
    },
    {
     "name": "stdout",
     "output_type": "stream",
     "text": [
      "next action: tensor([[-0.4415,  0.2598, -0.2142,  0.2563, -3.6213,  4.0374]])\n",
      "true action: [-0.34  0.04 -0.28  0.07  0.    6.2 ]\n"
     ]
    },
    {
     "data": {
      "image/png": "[encoded data removed]",
      "text/plain": [
       "<Figure size 432x288 with 1 Axes>"
      ]
     },
     "metadata": {
      "needs_background": "light"
     },
     "output_type": "display_data"
    },
    {
     "name": "stdout",
     "output_type": "stream",
     "text": [
      "next action: tensor([[ 0.4346,  0.1806,  0.2355,  0.1640, -2.3605,  5.0989]])\n",
      "true action: [ 0.49 -0.31  0.79 -0.81  4.51 -3.91]\n"
     ]
    },
    {
     "data": {
      "image/png": "[encoded data removed]",
      "text/plain": [
       "<Figure size 432x288 with 1 Axes>"
      ]
     },
     "metadata": {
      "needs_background": "light"
     },
     "output_type": "display_data"
    },
    {
     "name": "stdout",
     "output_type": "stream",
     "text": [
      "next action: tensor([[ 2.4092e-02,  6.0180e-02, -2.1738e-03,  3.1527e-02,  4.0663e+00,\n",
      "         -2.9671e+00]])\n",
      "true action: [-0.32 -0.2   0.43 -0.22  7.54 -5.54]\n"
     ]
    },
    {
     "data": {
      "image/png": "[encoded data removed]",
      "text/plain": [
       "<Figure size 432x288 with 1 Axes>"
      ]
     },
     "metadata": {
      "needs_background": "light"
     },
     "output_type": "display_data"
    },
    {
     "name": "stdout",
     "output_type": "stream",
     "text": [
      "next action: tensor([[ 0.6032,  0.1637, -0.1699, -0.0797,  0.0524, -2.9263]])\n",
      "true action: [ 0.38 -0.03 -0.42  0.07  3.18 -0.38]\n"
     ]
    },
    {
     "data": {
      "image/png": "[encoded data removed]",
      "text/plain": [
       "<Figure size 432x288 with 1 Axes>"
      ]
     },
     "metadata": {
      "needs_background": "light"
     },
     "output_type": "display_data"
    }
   ],
   "source": [
    "for row_index in range(10,20):\n",
    "    compare_actions(test_data, row_index, cnn_model, verbose=False)"
   ]
  },
  {
   "cell_type": "code",
   "execution_count": 11,
   "id": "d585585f",
   "metadata": {},
   "outputs": [
    {
     "data": {
      "text/html": [
       "<div>\n",
       "<style scoped>\n",
       "    .dataframe tbody tr th:only-of-type {\n",
       "        vertical-align: middle;\n",
       "    }\n",
       "\n",
       "    .dataframe tbody tr th {\n",
       "        vertical-align: top;\n",
       "    }\n",
       "\n",
       "    .dataframe thead th {\n",
       "        text-align: right;\n",
       "    }\n",
       "</style>\n",
       "<table border=\"1\" class=\"dataframe\">\n",
       "  <thead>\n",
       "    <tr style=\"text-align: right;\">\n",
       "      <th></th>\n",
       "      <th>playIndex</th>\n",
       "      <th>timeIndex</th>\n",
       "      <th>state</th>\n",
       "      <th>next_state</th>\n",
       "      <th>reward</th>\n",
       "      <th>action</th>\n",
       "      <th>next_action</th>\n",
       "    </tr>\n",
       "  </thead>\n",
       "  <tbody>\n",
       "    <tr>\n",
       "      <th>3853</th>\n",
       "      <td>70</td>\n",
       "      <td>109</td>\n",
       "      <td>[84.52, 2.95, 2.88, 4.89, 279.1, 187.79, 84.92...</td>\n",
       "      <td>[84.49, 2.68, 2.61, 4.37, 248.06, 181.32, 84.8...</td>\n",
       "      <td>0.27</td>\n",
       "      <td>[0.03, 0.27, 0.27, 0.52, 31.04, 6.47]</td>\n",
       "      <td>[0.01, 0.23, 0.25, 0.58, 22.64, 5.95]</td>\n",
       "    </tr>\n",
       "    <tr>\n",
       "      <th>163361</th>\n",
       "      <td>3178</td>\n",
       "      <td>107</td>\n",
       "      <td>[75.65, 45.3, 8.29, 1.91, 313.83, 325.48, 75.5...</td>\n",
       "      <td>[75.17, 45.98, 8.25, 1.91, 313.83, 323.9, 75.0...</td>\n",
       "      <td>0.83</td>\n",
       "      <td>[0.48, -0.68, 0.04, 0.0, 0.0, 1.58]</td>\n",
       "      <td>[0.48, -0.66, 0.12, -0.02, 0.65, 1.05]</td>\n",
       "    </tr>\n",
       "    <tr>\n",
       "      <th>121000</th>\n",
       "      <td>2345</td>\n",
       "      <td>103</td>\n",
       "      <td>[29.16, 28.58, 0.21, 0.04, 111.48, 154.88, 29....</td>\n",
       "      <td>[29.17, 28.56, 0.17, 0.61, 119.02, 130.2, 29.6...</td>\n",
       "      <td>0.02</td>\n",
       "      <td>[-0.01, 0.02, 0.04, -0.57, -7.54, 24.68]</td>\n",
       "      <td>[-0.02, 0.01, 0.01, -0.21, 73.63, 20.74]</td>\n",
       "    </tr>\n",
       "    <tr>\n",
       "      <th>115218</th>\n",
       "      <td>2238</td>\n",
       "      <td>78</td>\n",
       "      <td>[27.07, 24.58, 7.48, 4.16, 2.64, 20.99, 26.96,...</td>\n",
       "      <td>[27.32, 25.28, 7.46, 3.8, 359.81, 17.79, 27.2,...</td>\n",
       "      <td>0.75</td>\n",
       "      <td>[-0.25, -0.7, 0.02, 0.36, -357.17, 3.2]</td>\n",
       "      <td>[-0.22, -0.72, 0.04, 0.66, 358.85, 2.15]</td>\n",
       "    </tr>\n",
       "    <tr>\n",
       "      <th>142632</th>\n",
       "      <td>2787</td>\n",
       "      <td>84</td>\n",
       "      <td>[75.87, 26.03, 1.05, 2.04, 220.19, 181.78, 75....</td>\n",
       "      <td>[75.86, 25.86, 1.59, 2.6, 239.39, 181.71, 75.6...</td>\n",
       "      <td>0.17</td>\n",
       "      <td>[0.01, 0.17, -0.54, -0.56, -19.2, 0.07]</td>\n",
       "      <td>[0.0, 0.2, -0.45, -0.28, 7.57, -0.34]</td>\n",
       "    </tr>\n",
       "  </tbody>\n",
       "</table>\n",
       "</div>"
      ],
      "text/plain": [
       "        playIndex  timeIndex  \\\n",
       "3853           70        109   \n",
       "163361       3178        107   \n",
       "121000       2345        103   \n",
       "115218       2238         78   \n",
       "142632       2787         84   \n",
       "\n",
       "                                                    state  \\\n",
       "3853    [84.52, 2.95, 2.88, 4.89, 279.1, 187.79, 84.92...   \n",
       "163361  [75.65, 45.3, 8.29, 1.91, 313.83, 325.48, 75.5...   \n",
       "121000  [29.16, 28.58, 0.21, 0.04, 111.48, 154.88, 29....   \n",
       "115218  [27.07, 24.58, 7.48, 4.16, 2.64, 20.99, 26.96,...   \n",
       "142632  [75.87, 26.03, 1.05, 2.04, 220.19, 181.78, 75....   \n",
       "\n",
       "                                               next_state  reward  \\\n",
       "3853    [84.49, 2.68, 2.61, 4.37, 248.06, 181.32, 84.8...    0.27   \n",
       "163361  [75.17, 45.98, 8.25, 1.91, 313.83, 323.9, 75.0...    0.83   \n",
       "121000  [29.17, 28.56, 0.17, 0.61, 119.02, 130.2, 29.6...    0.02   \n",
       "115218  [27.32, 25.28, 7.46, 3.8, 359.81, 17.79, 27.2,...    0.75   \n",
       "142632  [75.86, 25.86, 1.59, 2.6, 239.39, 181.71, 75.6...    0.17   \n",
       "\n",
       "                                          action  \\\n",
       "3853       [0.03, 0.27, 0.27, 0.52, 31.04, 6.47]   \n",
       "163361       [0.48, -0.68, 0.04, 0.0, 0.0, 1.58]   \n",
       "121000  [-0.01, 0.02, 0.04, -0.57, -7.54, 24.68]   \n",
       "115218   [-0.25, -0.7, 0.02, 0.36, -357.17, 3.2]   \n",
       "142632   [0.01, 0.17, -0.54, -0.56, -19.2, 0.07]   \n",
       "\n",
       "                                     next_action  \n",
       "3853       [0.01, 0.23, 0.25, 0.58, 22.64, 5.95]  \n",
       "163361    [0.48, -0.66, 0.12, -0.02, 0.65, 1.05]  \n",
       "121000  [-0.02, 0.01, 0.01, -0.21, 73.63, 20.74]  \n",
       "115218  [-0.22, -0.72, 0.04, 0.66, 358.85, 2.15]  \n",
       "142632     [0.0, 0.2, -0.45, -0.28, 7.57, -0.34]  "
      ]
     },
     "execution_count": 11,
     "metadata": {},
     "output_type": "execute_result"
    }
   ],
   "source": [
    "test_data.head()"
   ]
  },
  {
   "cell_type": "code",
   "execution_count": 15,
   "id": "bdefdb79",
   "metadata": {},
   "outputs": [],
   "source": [
    "import matplotlib.pyplot as plt\n",
    "import matplotlib.patches as patches"
   ]
  },
  {
   "cell_type": "code",
   "execution_count": 22,
   "id": "aa55b99d",
   "metadata": {},
   "outputs": [],
   "source": [
    "tracking2018 = pd.read_csv(\"csv/tracking2018.csv\")\n",
    "tracking2019 = pd.read_csv(\"csv/tracking2019.csv\")\n",
    "tracking2020 = pd.read_csv(\"csv/tracking2020.csv\")"
   ]
  },
  {
   "cell_type": "code",
   "execution_count": 32,
   "id": "f1637e8d",
   "metadata": {},
   "outputs": [
    {
     "data": {
      "text/html": [
       "<div>\n",
       "<style scoped>\n",
       "    .dataframe tbody tr th:only-of-type {\n",
       "        vertical-align: middle;\n",
       "    }\n",
       "\n",
       "    .dataframe tbody tr th {\n",
       "        vertical-align: top;\n",
       "    }\n",
       "\n",
       "    .dataframe thead th {\n",
       "        text-align: right;\n",
       "    }\n",
       "</style>\n",
       "<table border=\"1\" class=\"dataframe\">\n",
       "  <thead>\n",
       "    <tr style=\"text-align: right;\">\n",
       "      <th></th>\n",
       "      <th>time</th>\n",
       "      <th>x</th>\n",
       "      <th>y</th>\n",
       "      <th>s</th>\n",
       "      <th>a</th>\n",
       "      <th>dis</th>\n",
       "      <th>o</th>\n",
       "      <th>dir</th>\n",
       "      <th>event</th>\n",
       "      <th>nflId</th>\n",
       "      <th>displayName</th>\n",
       "      <th>jerseyNumber</th>\n",
       "      <th>position</th>\n",
       "      <th>team</th>\n",
       "      <th>frameId</th>\n",
       "      <th>gameId</th>\n",
       "      <th>playId</th>\n",
       "      <th>playDirection</th>\n",
       "    </tr>\n",
       "  </thead>\n",
       "  <tbody>\n",
       "    <tr>\n",
       "      <th>10255309</th>\n",
       "      <td>2020-09-27T22:47:51.600</td>\n",
       "      <td>37.13</td>\n",
       "      <td>20.99</td>\n",
       "      <td>0.04</td>\n",
       "      <td>0.04</td>\n",
       "      <td>0.02</td>\n",
       "      <td>327.58</td>\n",
       "      <td>292.53</td>\n",
       "      <td>None</td>\n",
       "      <td>34707.0</td>\n",
       "      <td>Ryan Succop</td>\n",
       "      <td>3.0</td>\n",
       "      <td>K</td>\n",
       "      <td>away</td>\n",
       "      <td>1</td>\n",
       "      <td>2020092711</td>\n",
       "      <td>3178</td>\n",
       "      <td>left</td>\n",
       "    </tr>\n",
       "    <tr>\n",
       "      <th>10255310</th>\n",
       "      <td>2020-09-27T22:47:51.700</td>\n",
       "      <td>37.11</td>\n",
       "      <td>20.99</td>\n",
       "      <td>0.04</td>\n",
       "      <td>0.04</td>\n",
       "      <td>0.01</td>\n",
       "      <td>326.45</td>\n",
       "      <td>291.29</td>\n",
       "      <td>None</td>\n",
       "      <td>34707.0</td>\n",
       "      <td>Ryan Succop</td>\n",
       "      <td>3.0</td>\n",
       "      <td>K</td>\n",
       "      <td>away</td>\n",
       "      <td>2</td>\n",
       "      <td>2020092711</td>\n",
       "      <td>3178</td>\n",
       "      <td>left</td>\n",
       "    </tr>\n",
       "    <tr>\n",
       "      <th>10255311</th>\n",
       "      <td>2020-09-27T22:47:51.800</td>\n",
       "      <td>37.10</td>\n",
       "      <td>21.00</td>\n",
       "      <td>0.03</td>\n",
       "      <td>0.04</td>\n",
       "      <td>0.02</td>\n",
       "      <td>327.04</td>\n",
       "      <td>292.06</td>\n",
       "      <td>None</td>\n",
       "      <td>34707.0</td>\n",
       "      <td>Ryan Succop</td>\n",
       "      <td>3.0</td>\n",
       "      <td>K</td>\n",
       "      <td>away</td>\n",
       "      <td>3</td>\n",
       "      <td>2020092711</td>\n",
       "      <td>3178</td>\n",
       "      <td>left</td>\n",
       "    </tr>\n",
       "    <tr>\n",
       "      <th>10255312</th>\n",
       "      <td>2020-09-27T22:47:51.900</td>\n",
       "      <td>37.09</td>\n",
       "      <td>21.00</td>\n",
       "      <td>0.03</td>\n",
       "      <td>0.04</td>\n",
       "      <td>0.01</td>\n",
       "      <td>327.04</td>\n",
       "      <td>290.35</td>\n",
       "      <td>None</td>\n",
       "      <td>34707.0</td>\n",
       "      <td>Ryan Succop</td>\n",
       "      <td>3.0</td>\n",
       "      <td>K</td>\n",
       "      <td>away</td>\n",
       "      <td>4</td>\n",
       "      <td>2020092711</td>\n",
       "      <td>3178</td>\n",
       "      <td>left</td>\n",
       "    </tr>\n",
       "    <tr>\n",
       "      <th>10255313</th>\n",
       "      <td>2020-09-27T22:47:52.000</td>\n",
       "      <td>37.08</td>\n",
       "      <td>21.00</td>\n",
       "      <td>0.03</td>\n",
       "      <td>0.03</td>\n",
       "      <td>0.01</td>\n",
       "      <td>327.04</td>\n",
       "      <td>289.40</td>\n",
       "      <td>None</td>\n",
       "      <td>34707.0</td>\n",
       "      <td>Ryan Succop</td>\n",
       "      <td>3.0</td>\n",
       "      <td>K</td>\n",
       "      <td>away</td>\n",
       "      <td>5</td>\n",
       "      <td>2020092711</td>\n",
       "      <td>3178</td>\n",
       "      <td>left</td>\n",
       "    </tr>\n",
       "  </tbody>\n",
       "</table>\n",
       "</div>"
      ],
      "text/plain": [
       "                             time      x      y     s     a   dis       o  \\\n",
       "10255309  2020-09-27T22:47:51.600  37.13  20.99  0.04  0.04  0.02  327.58   \n",
       "10255310  2020-09-27T22:47:51.700  37.11  20.99  0.04  0.04  0.01  326.45   \n",
       "10255311  2020-09-27T22:47:51.800  37.10  21.00  0.03  0.04  0.02  327.04   \n",
       "10255312  2020-09-27T22:47:51.900  37.09  21.00  0.03  0.04  0.01  327.04   \n",
       "10255313  2020-09-27T22:47:52.000  37.08  21.00  0.03  0.03  0.01  327.04   \n",
       "\n",
       "             dir event    nflId  displayName  jerseyNumber position  team  \\\n",
       "10255309  292.53  None  34707.0  Ryan Succop           3.0        K  away   \n",
       "10255310  291.29  None  34707.0  Ryan Succop           3.0        K  away   \n",
       "10255311  292.06  None  34707.0  Ryan Succop           3.0        K  away   \n",
       "10255312  290.35  None  34707.0  Ryan Succop           3.0        K  away   \n",
       "10255313  289.40  None  34707.0  Ryan Succop           3.0        K  away   \n",
       "\n",
       "          frameId      gameId  playId playDirection  \n",
       "10255309        1  2020092711    3178          left  \n",
       "10255310        2  2020092711    3178          left  \n",
       "10255311        3  2020092711    3178          left  \n",
       "10255312        4  2020092711    3178          left  \n",
       "10255313        5  2020092711    3178          left  "
      ]
     },
     "execution_count": 32,
     "metadata": {},
     "output_type": "execute_result"
    }
   ],
   "source": [
    "tracking2020.query('playId == 3178').head()"
   ]
  },
  {
   "cell_type": "code",
   "execution_count": 16,
   "id": "c7fbd447",
   "metadata": {},
   "outputs": [
    {
     "data": {
      "image/png": "[encoded data removed]",
      "text/plain": [
       "<Figure size 864x455.76 with 1 Axes>"
      ]
     },
     "metadata": {
      "needs_background": "light"
     },
     "output_type": "display_data"
    }
   ],
   "source": [
    "def create_football_field(linenumbers=True,\n",
    "                          endzones=True,\n",
    "                          highlight_line=False,\n",
    "                          highlight_line_number=50,\n",
    "                          highlighted_name='Line of Scrimmage',\n",
    "                          fifty_is_los=False,\n",
    "                          figsize=(12, 6.33)):\n",
    "    \"\"\"\n",
    "    Function that plots the football field for viewing plays.\n",
    "    Allows for showing or hiding endzones.\n",
    "    \"\"\"\n",
    "    rect = patches.Rectangle((0, 0), 120, 53.3, linewidth=0.1,\n",
    "                             edgecolor='r', facecolor='darkgreen', zorder=0)\n",
    "\n",
    "    fig, ax = plt.subplots(1, figsize=figsize)\n",
    "    ax.add_patch(rect)\n",
    "\n",
    "    plt.plot([10, 10, 10, 20, 20, 30, 30, 40, 40, 50, 50, 60, 60, 70, 70, 80,\n",
    "              80, 90, 90, 100, 100, 110, 110, 120, 0, 0, 120, 120],\n",
    "             [0, 0, 53.3, 53.3, 0, 0, 53.3, 53.3, 0, 0, 53.3, 53.3, 0, 0, 53.3,\n",
    "              53.3, 0, 0, 53.3, 53.3, 0, 0, 53.3, 53.3, 53.3, 0, 0, 53.3],\n",
    "             color='white')\n",
    "    if fifty_is_los:\n",
    "        plt.plot([60, 60], [0, 53.3], color='gold')\n",
    "        plt.text(62, 50, '<- Player Yardline at Snap', color='gold')\n",
    "    # Endzones\n",
    "    if endzones:\n",
    "        ez1 = patches.Rectangle((0, 0), 10, 53.3,\n",
    "                                linewidth=0.1,\n",
    "                                edgecolor='r',\n",
    "                                facecolor='blue',\n",
    "                                alpha=0.2,\n",
    "                                zorder=0)\n",
    "        ez2 = patches.Rectangle((110, 0), 120, 53.3,\n",
    "                                linewidth=0.1,\n",
    "                                edgecolor='r',\n",
    "                                facecolor='blue',\n",
    "                                alpha=0.2,\n",
    "                                zorder=0)\n",
    "        ax.add_patch(ez1)\n",
    "        ax.add_patch(ez2)\n",
    "    plt.xlim(0, 120)\n",
    "    plt.ylim(-5, 58.3)\n",
    "    plt.axis('off')\n",
    "    if linenumbers:\n",
    "        for x in range(20, 110, 10):\n",
    "            numb = x\n",
    "            if x > 50:\n",
    "                numb = 120 - x\n",
    "            plt.text(x, 5, str(numb - 10),\n",
    "                     horizontalalignment='center',\n",
    "                     fontsize=20,  # fontname='Arial',\n",
    "                     color='white')\n",
    "            plt.text(x - 0.95, 53.3 - 5, str(numb - 10),\n",
    "                     horizontalalignment='center',\n",
    "                     fontsize=20,  # fontname='Arial',\n",
    "                     color='white', rotation=180)\n",
    "    if endzones:\n",
    "        hash_range = range(11, 110)\n",
    "    else:\n",
    "        hash_range = range(1, 120)\n",
    "\n",
    "    for x in hash_range:\n",
    "        ax.plot([x, x], [0.4, 0.7], color='white')\n",
    "        ax.plot([x, x], [53.0, 52.5], color='white')\n",
    "        ax.plot([x, x], [22.91, 23.57], color='white')\n",
    "        ax.plot([x, x], [29.73, 30.39], color='white')\n",
    "\n",
    "    if highlight_line:\n",
    "        hl = highlight_line_number + 10\n",
    "        plt.plot([hl, hl], [0, 53.3], color='yellow')\n",
    "        plt.text(hl + 2, 50, '<- {}'.format(highlighted_name),\n",
    "                 color='yellow')\n",
    "    return fig, ax\n",
    "\n",
    "first_entry = tracking2018.query('time == @time and gameId == @gameId')\n",
    "fig, ax = create_football_field()\n",
    "first_entry.query(\"team == 'away'\") \\\n",
    "    .plot(x='x', y='y', kind='scatter', ax=ax, color='red', s=30, legend='Away')\n",
    "first_entry.query(\"team == 'home'\") \\\n",
    "    .plot(x='x', y='y', kind='scatter', ax=ax, color='blue', s=30, legend='Home')\n",
    "first_entry.query(\"displayName == 'football'\") \\\n",
    "    .plot(x='x', y='y', kind='scatter', ax=ax, color='orange', s=50, legend='Football')\n",
    "plt.title('Plot Teams')\n",
    "plt.legend()\n",
    "plt.show()"
   ]
  },
  {
   "cell_type": "code",
   "execution_count": null,
   "id": "03b03005",
   "metadata": {},
   "outputs": [],
   "source": []
  },
  {
   "cell_type": "code",
   "execution_count": null,
   "id": "0948d980",
   "metadata": {},
   "outputs": [],
   "source": []
  },
  {
   "cell_type": "code",
   "execution_count": null,
   "id": "02131a5e",
   "metadata": {},
   "outputs": [],
   "source": []
  },
  {
   "cell_type": "code",
   "execution_count": null,
   "id": "35ff20c6",
   "metadata": {},
   "outputs": [],
   "source": []
  },
  {
   "cell_type": "code",
   "execution_count": null,
   "id": "64cdb03b",
   "metadata": {},
   "outputs": [],
   "source": []
  },
  {
   "cell_type": "code",
   "execution_count": null,
   "id": "5788330e",
   "metadata": {},
   "outputs": [],
   "source": []
  },
  {
   "cell_type": "code",
   "execution_count": null,
   "id": "c9fcbfa8",
   "metadata": {},
   "outputs": [],
   "source": []
  },
  {
   "cell_type": "code",
   "execution_count": null,
   "id": "54737a8a",
   "metadata": {},
   "outputs": [],
   "source": []
  }
 ],
 "metadata": {
  "kernelspec": {
   "display_name": "Python 3 (ipykernel)",
   "language": "python",
   "name": "python3"
  },
  "language_info": {
   "codemirror_mode": {
    "name": "ipython",
    "version": 3
   },
   "file_extension": ".py",
   "mimetype": "text/x-python",
   "name": "python",
   "nbconvert_exporter": "python",
   "pygments_lexer": "ipython3",
   "version": "3.9.7"
  }
 },
 "nbformat": 4,
 "nbformat_minor": 5
}
