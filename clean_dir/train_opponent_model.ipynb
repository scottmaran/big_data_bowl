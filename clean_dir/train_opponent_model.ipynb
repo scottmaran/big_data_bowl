{
 "cells": [
  {
   "cell_type": "code",
   "execution_count": 2,
   "id": "81c17a19",
   "metadata": {},
   "outputs": [],
   "source": [
    "import numpy as np\n",
    "import pandas as pd\n",
    "import json\n",
    "import pickle\n",
    "import matplotlib.pyplot as plt\n",
    "import warnings\n",
    "\n",
    "import torch\n",
    "import torch.nn as nn\n",
    "import torch.nn.functional as F\n",
    "import torch.optim as optim\n",
    "\n",
    "import torch.utils.data\n",
    "\n",
    "import matplotlib.pyplot as plt\n",
    "import os"
   ]
  },
  {
   "cell_type": "code",
   "execution_count": 3,
   "id": "2378d714",
   "metadata": {},
   "outputs": [
    {
     "data": {
      "text/html": [
       "<div>\n",
       "<style scoped>\n",
       "    .dataframe tbody tr th:only-of-type {\n",
       "        vertical-align: middle;\n",
       "    }\n",
       "\n",
       "    .dataframe tbody tr th {\n",
       "        vertical-align: top;\n",
       "    }\n",
       "\n",
       "    .dataframe thead th {\n",
       "        text-align: right;\n",
       "    }\n",
       "</style>\n",
       "<table border=\"1\" class=\"dataframe\">\n",
       "  <thead>\n",
       "    <tr style=\"text-align: right;\">\n",
       "      <th></th>\n",
       "      <th>season</th>\n",
       "      <th>gameId</th>\n",
       "      <th>playId</th>\n",
       "      <th>playIndex</th>\n",
       "      <th>timeIndex</th>\n",
       "      <th>time</th>\n",
       "      <th>playerId</th>\n",
       "      <th>football_pos</th>\n",
       "      <th>state</th>\n",
       "      <th>next_state</th>\n",
       "      <th>reward</th>\n",
       "      <th>action</th>\n",
       "      <th>next_action</th>\n",
       "    </tr>\n",
       "  </thead>\n",
       "  <tbody>\n",
       "    <tr>\n",
       "      <th>0</th>\n",
       "      <td>2018</td>\n",
       "      <td>2018090600</td>\n",
       "      <td>677</td>\n",
       "      <td>0</td>\n",
       "      <td>52</td>\n",
       "      <td>2018-09-07T01:34:34.500</td>\n",
       "      <td>38707.0</td>\n",
       "      <td>[[11.15, 42.28, 0.17, 2.91, 6.78, 0.0, 0.0, 11...</td>\n",
       "      <td>[[44.11, 24.92, 1.01, 10.05, 0.76, 299.74, 292...</td>\n",
       "      <td>[[43.17, 25.29, 1.01, 10.09, 0.75, 296.5, 291....</td>\n",
       "      <td>[-0.09]</td>\n",
       "      <td>[[0.94, -0.37, 0.0, -0.04, 0.01, 3.24, 0.45, 0...</td>\n",
       "      <td>[[0.87, -0.3, -0.01, -0.04, -0.05, -1.93, 1.07...</td>\n",
       "    </tr>\n",
       "    <tr>\n",
       "      <th>1</th>\n",
       "      <td>2018</td>\n",
       "      <td>2018090600</td>\n",
       "      <td>677</td>\n",
       "      <td>0</td>\n",
       "      <td>52</td>\n",
       "      <td>2018-09-07T01:34:34.500</td>\n",
       "      <td>40191.0</td>\n",
       "      <td>[[11.15, 42.28, 0.17, 2.91, 6.78, 0.0, 0.0, 11...</td>\n",
       "      <td>[[43.9, 21.75, 0.91, 9.11, 1.06, 283.77, 289.8...</td>\n",
       "      <td>[[43.03, 22.05, 0.92, 9.15, 1.11, 285.7, 288.8...</td>\n",
       "      <td>[-0.09]</td>\n",
       "      <td>[[0.87, -0.3, -0.01, -0.04, -0.05, -1.93, 1.07...</td>\n",
       "      <td>[[0.92, -0.01, -0.01, 0.01, -0.1, 0.0, -0.08, ...</td>\n",
       "    </tr>\n",
       "    <tr>\n",
       "      <th>2</th>\n",
       "      <td>2018</td>\n",
       "      <td>2018090600</td>\n",
       "      <td>677</td>\n",
       "      <td>0</td>\n",
       "      <td>52</td>\n",
       "      <td>2018-09-07T01:34:34.500</td>\n",
       "      <td>42450.0</td>\n",
       "      <td>[[11.15, 42.28, 0.17, 2.91, 6.78, 0.0, 0.0, 11...</td>\n",
       "      <td>[[45.07, 49.79, 0.91, 9.18, 0.44, 251.62, 270....</td>\n",
       "      <td>[[44.15, 49.8, 0.92, 9.17, 0.54, 251.62, 270.1...</td>\n",
       "      <td>[-0.09]</td>\n",
       "      <td>[[0.92, -0.01, -0.01, 0.01, -0.1, 0.0, -0.08, ...</td>\n",
       "      <td>[[0.69, -0.08, 0.0, 0.03, 0.05, -0.69, 0.69, 0...</td>\n",
       "    </tr>\n",
       "    <tr>\n",
       "      <th>3</th>\n",
       "      <td>2018</td>\n",
       "      <td>2018090600</td>\n",
       "      <td>677</td>\n",
       "      <td>0</td>\n",
       "      <td>52</td>\n",
       "      <td>2018-09-07T01:34:34.500</td>\n",
       "      <td>43306.0</td>\n",
       "      <td>[[11.15, 42.28, 0.17, 2.91, 6.78, 0.0, 0.0, 11...</td>\n",
       "      <td>[[50.5, 46.24, 0.7, 7.0, 1.05, 275.39, 277.13,...</td>\n",
       "      <td>[[49.81, 46.32, 0.7, 6.97, 1.0, 276.08, 276.44...</td>\n",
       "      <td>[-0.09]</td>\n",
       "      <td>[[0.69, -0.08, 0.0, 0.03, 0.05, -0.69, 0.69, 0...</td>\n",
       "      <td>[[0.85, -0.29, 0.01, 0.12, -0.08, 2.19, -0.11,...</td>\n",
       "    </tr>\n",
       "    <tr>\n",
       "      <th>4</th>\n",
       "      <td>2018</td>\n",
       "      <td>2018090600</td>\n",
       "      <td>677</td>\n",
       "      <td>0</td>\n",
       "      <td>52</td>\n",
       "      <td>2018-09-07T01:34:34.500</td>\n",
       "      <td>46263.0</td>\n",
       "      <td>[[11.15, 42.28, 0.17, 2.91, 6.78, 0.0, 0.0, 11...</td>\n",
       "      <td>[[41.11, 32.25, 0.91, 9.01, 1.72, 292.28, 288....</td>\n",
       "      <td>[[40.26, 32.54, 0.9, 8.89, 1.8, 290.09, 288.69...</td>\n",
       "      <td>[-0.09]</td>\n",
       "      <td>[[0.85, -0.29, 0.01, 0.12, -0.08, 2.19, -0.11,...</td>\n",
       "      <td>[[0.85, -0.29, 0.01, 0.05, -0.18, -3.12, -1.75...</td>\n",
       "    </tr>\n",
       "  </tbody>\n",
       "</table>\n",
       "</div>"
      ],
      "text/plain": [
       "  season      gameId  playId  playIndex  timeIndex                     time  \\\n",
       "0   2018  2018090600     677          0         52  2018-09-07T01:34:34.500   \n",
       "1   2018  2018090600     677          0         52  2018-09-07T01:34:34.500   \n",
       "2   2018  2018090600     677          0         52  2018-09-07T01:34:34.500   \n",
       "3   2018  2018090600     677          0         52  2018-09-07T01:34:34.500   \n",
       "4   2018  2018090600     677          0         52  2018-09-07T01:34:34.500   \n",
       "\n",
       "   playerId                                       football_pos  \\\n",
       "0   38707.0  [[11.15, 42.28, 0.17, 2.91, 6.78, 0.0, 0.0, 11...   \n",
       "1   40191.0  [[11.15, 42.28, 0.17, 2.91, 6.78, 0.0, 0.0, 11...   \n",
       "2   42450.0  [[11.15, 42.28, 0.17, 2.91, 6.78, 0.0, 0.0, 11...   \n",
       "3   43306.0  [[11.15, 42.28, 0.17, 2.91, 6.78, 0.0, 0.0, 11...   \n",
       "4   46263.0  [[11.15, 42.28, 0.17, 2.91, 6.78, 0.0, 0.0, 11...   \n",
       "\n",
       "                                               state  \\\n",
       "0  [[44.11, 24.92, 1.01, 10.05, 0.76, 299.74, 292...   \n",
       "1  [[43.9, 21.75, 0.91, 9.11, 1.06, 283.77, 289.8...   \n",
       "2  [[45.07, 49.79, 0.91, 9.18, 0.44, 251.62, 270....   \n",
       "3  [[50.5, 46.24, 0.7, 7.0, 1.05, 275.39, 277.13,...   \n",
       "4  [[41.11, 32.25, 0.91, 9.01, 1.72, 292.28, 288....   \n",
       "\n",
       "                                          next_state   reward  \\\n",
       "0  [[43.17, 25.29, 1.01, 10.09, 0.75, 296.5, 291....  [-0.09]   \n",
       "1  [[43.03, 22.05, 0.92, 9.15, 1.11, 285.7, 288.8...  [-0.09]   \n",
       "2  [[44.15, 49.8, 0.92, 9.17, 0.54, 251.62, 270.1...  [-0.09]   \n",
       "3  [[49.81, 46.32, 0.7, 6.97, 1.0, 276.08, 276.44...  [-0.09]   \n",
       "4  [[40.26, 32.54, 0.9, 8.89, 1.8, 290.09, 288.69...  [-0.09]   \n",
       "\n",
       "                                              action  \\\n",
       "0  [[0.94, -0.37, 0.0, -0.04, 0.01, 3.24, 0.45, 0...   \n",
       "1  [[0.87, -0.3, -0.01, -0.04, -0.05, -1.93, 1.07...   \n",
       "2  [[0.92, -0.01, -0.01, 0.01, -0.1, 0.0, -0.08, ...   \n",
       "3  [[0.69, -0.08, 0.0, 0.03, 0.05, -0.69, 0.69, 0...   \n",
       "4  [[0.85, -0.29, 0.01, 0.12, -0.08, 2.19, -0.11,...   \n",
       "\n",
       "                                         next_action  \n",
       "0  [[0.87, -0.3, -0.01, -0.04, -0.05, -1.93, 1.07...  \n",
       "1  [[0.92, -0.01, -0.01, 0.01, -0.1, 0.0, -0.08, ...  \n",
       "2  [[0.69, -0.08, 0.0, 0.03, 0.05, -0.69, 0.69, 0...  \n",
       "3  [[0.85, -0.29, 0.01, 0.12, -0.08, 2.19, -0.11,...  \n",
       "4  [[0.85, -0.29, 0.01, 0.05, -0.18, -3.12, -1.75...  "
      ]
     },
     "execution_count": 3,
     "metadata": {},
     "output_type": "execute_result"
    }
   ],
   "source": [
    "'''\n",
    "Read in saved dataset to use to feed into the model.\n",
    "Further pre-processing still needs to be done on the state vectors\n",
    "'''\n",
    "\n",
    "data_df = pd.read_pickle('/home/amans/Development/scott/nfl-big-data-bowl-2022/clean_dir/opponent_dataset.pkl')\n",
    "\n",
    "\n",
    "data_df.head()"
   ]
  },
  {
   "cell_type": "code",
   "execution_count": 4,
   "id": "3b397880",
   "metadata": {},
   "outputs": [
    {
     "data": {
      "text/plain": [
       "array([ 44.11      ,  24.92      ,   1.01      ,  10.05      ,\n",
       "         0.76      , 299.74      , 292.21      ,  44.11      ,\n",
       "        -1.73      , 209.74      , 202.21      ,   0.6792262 ,\n",
       "        -0.733929  ,   0.91197393,   0.41024816,  36.997     ,\n",
       "         2.715     ,   5.042     ])"
      ]
     },
     "execution_count": 4,
     "metadata": {},
     "output_type": "execute_result"
    }
   ],
   "source": [
    "'''\n",
    "State vector \n",
    "['x','y', 'dis', 's', 'a', 'o', 'dir', 'adj_x', 'adj_y', 'adj_o', 'adj_dir', 'sin_adj_o', 'cos_adj_o', \\\n",
    "'sin_adj_dir', 'cos_adj_dir', 'dist_from_ball_carrier', 'min_teammate_dist', 'min_opponent_dist']\n",
    "'''\n",
    "\n",
    "data_df.loc[0,'state'][0]"
   ]
  },
  {
   "cell_type": "code",
   "execution_count": null,
   "id": "a9526514",
   "metadata": {},
   "outputs": [],
   "source": []
  },
  {
   "cell_type": "code",
   "execution_count": 5,
   "id": "723edf01",
   "metadata": {},
   "outputs": [
    {
     "name": "stdout",
     "output_type": "stream",
     "text": [
      "cuda\n"
     ]
    }
   ],
   "source": [
    "device = 'cuda' if torch.cuda.is_available() else 'cpu'\n",
    "\n",
    "print(device)"
   ]
  },
  {
   "cell_type": "code",
   "execution_count": 6,
   "id": "d8a40f9c",
   "metadata": {},
   "outputs": [
    {
     "name": "stdout",
     "output_type": "stream",
     "text": [
      "size =  torch.Size([215429])\n"
     ]
    }
   ],
   "source": [
    "'''\n",
    "Create torch dataset\n",
    "'''\n",
    "\n",
    "features = torch.zeros(len(data_df)).to(device)\n",
    "labels = torch.zeros(len(data_df)).to(device)\n",
    "\n",
    "print(\"size = \", features.size())"
   ]
  },
  {
   "cell_type": "code",
   "execution_count": 7,
   "id": "91376685",
   "metadata": {},
   "outputs": [
    {
     "name": "stdout",
     "output_type": "stream",
     "text": [
      "Index(['season', 'gameId', 'playId', 'playIndex', 'timeIndex', 'time',\n",
      "       'playerId', 'football_pos', 'state', 'next_state', 'reward', 'action',\n",
      "       'next_action'],\n",
      "      dtype='object')\n",
      "Length of training data: 150800\n"
     ]
    }
   ],
   "source": [
    "'''\n",
    "Function that splits the data into a training, validation, and test set\n",
    "'''\n",
    "def split_data(dataset, train_split, seed):\n",
    "    np.random.seed(seed)\n",
    "    indices = list(range(len(dataset)))\n",
    "    np.random.shuffle(indices)\n",
    "\n",
    "    train_num = int(len(dataset)*train_split)\n",
    "    val_num = (len(dataset) - int(len(dataset)*train_split))//2\n",
    "\n",
    "    train_indices = indices[0:train_num]\n",
    "    val_indices = indices[train_num:train_num+val_num]\n",
    "    test_indices = indices[train_num+val_num:]\n",
    "\n",
    "    #check to make sure slices correct\n",
    "    assert len(dataset) == len(train_indices) + len(val_indices) + len(test_indices)\n",
    "\n",
    "    #dataset = help.normalize(train_indices, dataset)\n",
    "\n",
    "    train_data = dataset.iloc[train_indices,:]\n",
    "    val_data = dataset.iloc[val_indices,:]\n",
    "    test_data = dataset.iloc[test_indices,:]\n",
    "\n",
    "    return train_data, val_data, test_data\n",
    "\n",
    "train_data, val_data, test_data = split_data(data_df, 0.7, 2430)\n",
    "\n",
    "print(test_data.columns)\n",
    "\n",
    "print(f\"Length of training data: {len(train_data)}\")"
   ]
  },
  {
   "cell_type": "code",
   "execution_count": 8,
   "id": "200b93b4",
   "metadata": {},
   "outputs": [
    {
     "name": "stdout",
     "output_type": "stream",
     "text": [
      "State size: 18\n",
      "Action size: 8\n"
     ]
    },
    {
     "data": {
      "text/plain": [
       "'\\nFirst CNN model\\ncnn_model = nn.Sequential(\\n    nn.Conv2d(1, 12, (12,1), stride=1, padding=0),\\n    nn.LeakyReLU(),\\n    nn.Conv2d(12, 24, (6, 1)),\\n    nn.LeakyReLU(),\\n    nn.Conv2d(24, 48, (1,1)),\\n    nn.Flatten(),\\n    nn.Linear(48*6*6,action_size)\\n)\\n\\ncnn_model.to(device=device)\\n'"
      ]
     },
     "execution_count": 8,
     "metadata": {},
     "output_type": "execute_result"
    }
   ],
   "source": [
    "'''\n",
    "Predict ['s', 'a', 'adj_x', 'adj_y', 'adj_o', 'adj_dir', 'sin_adj_o', 'cos_adj_o', 'sin_adj_dir', 'cos_adj_dir']\n",
    "from \n",
    "['x','y', 'dis', 's', 'a', 'o', 'dir', 'adj_x', 'adj_y', 'adj_o', 'adj_dir', 'sin_adj_o', 'cos_adj_o', \\\n",
    "'sin_adj_dir', 'cos_adj_dir', 'dist_from_ball_carrier', 'min_teammate_dist', 'min_opponent_dist']\n",
    "'''\n",
    "\n",
    "\n",
    "\n",
    "'''\n",
    "Define hyperparamters\n",
    "'''\n",
    "BATCH_SIZE = 64\n",
    "state_size = len(data_df.loc[0,'state'][0])\n",
    "action_size = 8\n",
    "gamma = 0.99\n",
    "#max_action = torch.tensor(max_action, dtype=torch.float32).to(device=device)\n",
    "\n",
    "print(f\"State size: {state_size}\")\n",
    "print(f\"Action size: {action_size}\")\n",
    "    \n",
    "'''\n",
    "First CNN model\n",
    "cnn_model = nn.Sequential(\n",
    "    nn.Conv2d(1, 12, (12,1), stride=1, padding=0),\n",
    "    nn.LeakyReLU(),\n",
    "    nn.Conv2d(12, 24, (6, 1)),\n",
    "    nn.LeakyReLU(),\n",
    "    nn.Conv2d(24, 48, (1,1)),\n",
    "    nn.Flatten(),\n",
    "    nn.Linear(48*6*6,action_size)\n",
    ")\n",
    "\n",
    "cnn_model.to(device=device)\n",
    "'''"
   ]
  },
  {
   "cell_type": "code",
   "execution_count": 8,
   "id": "9839d87d",
   "metadata": {},
   "outputs": [
    {
     "data": {
      "text/plain": [
       "Sequential(\n",
       "  (0): Conv2d(1, 6, kernel_size=(2, 2), stride=(1, 1))\n",
       "  (1): Flatten(start_dim=1, end_dim=-1)\n",
       "  (2): Linear(in_features=924, out_features=300, bias=True)\n",
       "  (3): LeakyReLU(negative_slope=0.01)\n",
       "  (4): Linear(in_features=300, out_features=100, bias=True)\n",
       "  (5): LeakyReLU(negative_slope=0.01)\n",
       "  (6): Linear(in_features=100, out_features=8, bias=True)\n",
       ")"
      ]
     },
     "execution_count": 8,
     "metadata": {},
     "output_type": "execute_result"
    }
   ],
   "source": [
    "'''\n",
    "cnn_model = nn.Sequential(\n",
    "    nn.Conv2d(1, 32, (3,3), stride=1,padding=0),\n",
    "    nn.LeakyReLU(),\n",
    "    #nn.MaxPool2d((2,2), stride=2),\n",
    "    nn.Conv2d(32, 64, (3,3), stride=1,padding=0),\n",
    "    nn.LeakyReLU(),\n",
    "    #nn.MaxPool2d((2,2), stride=2),\n",
    "    nn.Conv2d(64,128, (2,2), stride=1,padding=0),\n",
    "    nn.LeakyReLU(),\n",
    "    #nn.MaxPool2d((2,2), stride=2),\n",
    "    nn.Conv2d(128,256, (1,1), stride=1,padding=0),\n",
    "    #nn.LeakyReLU(),\n",
    "    #nn.MaxPool2d((2,2), stride=2),\n",
    "    #nn.Conv2d(256,512, (3,3), stride=1,padding=0),\n",
    "    nn.LeakyReLU(),\n",
    "    #nn.MaxPool2d((2,2), stride=2),\n",
    "    nn.Flatten(),\n",
    "    nn.Linear(4352, 2000),\n",
    "    nn.LeakyReLU(),\n",
    "    nn.Linear(2000, 1000),\n",
    "    nn.LeakyReLU(),\n",
    "    nn.Linear(1000, 100),\n",
    "    nn.LeakyReLU(),\n",
    "    nn.Linear(100, action_size)\n",
    ")\n",
    "cnn_model.to(device=device)\n",
    "'''\n",
    "\n",
    "# 0.3046 val accuracy after 4 epochs, batch=64\n",
    "cnn_model = nn.Sequential(\n",
    "    nn.Conv2d(1, 6, (2,2), stride=1, padding=0),\n",
    "    nn.Flatten(),\n",
    "    nn.Linear(924,300), \n",
    "    nn.LeakyReLU(),\n",
    "    nn.Linear(300,100), \n",
    "    nn.LeakyReLU(),\n",
    "    nn.Linear(100,action_size)\n",
    ")\n",
    "\n",
    "\n",
    "'''\n",
    "cnn_model = nn.Sequential(\n",
    "    nn.Flatten(),\n",
    "    nn.Linear(176,100), \n",
    "    nn.LeakyReLU(),\n",
    "    nn.Linear(100,50), \n",
    "    nn.LeakyReLU(),\n",
    "    nn.Linear(50,action_size)\n",
    ")\n",
    "\n",
    "cnn_model = nn.Sequential(\n",
    "    nn.Flatten(),\n",
    "    nn.Linear(176,60), \n",
    "    nn.Dropout(p=0.5),\n",
    "    nn.LeakyReLU(),\n",
    "    nn.Linear(60,action_size)\n",
    ")\n",
    "'''\n",
    "\n",
    "\n",
    "cnn_model.to(device=device)"
   ]
  },
  {
   "cell_type": "code",
   "execution_count": 9,
   "id": "4b895e4a",
   "metadata": {},
   "outputs": [],
   "source": [
    "# define loss function\n",
    "mse_loss_fn = nn.MSELoss()\n",
    "# define optimizers\n",
    "cnn_optimizer = optim.Adam(cnn_model.parameters())"
   ]
  },
  {
   "cell_type": "code",
   "execution_count": 10,
   "id": "2525795f",
   "metadata": {},
   "outputs": [
    {
     "data": {
      "text/plain": [
       "array([-0.21, -0.02])"
      ]
     },
     "execution_count": 10,
     "metadata": {},
     "output_type": "execute_result"
    }
   ],
   "source": [
    "np.stack(test_data.iloc[0,:]['action'])[0,1:3]"
   ]
  },
  {
   "cell_type": "code",
   "execution_count": 9,
   "id": "9af9954e",
   "metadata": {},
   "outputs": [],
   "source": [
    "'''\n",
    "Given indices, train model on batch\n",
    "['x','y', 'dis', 's', 'a', 'o', 'dir', 'adj_x', 'adj_y', 'adj_o', 'adj_dir', 'sin_adj_o', 'cos_adj_o', \\\n",
    "'sin_adj_dir', 'cos_adj_dir', 'dist_from_ball_carrier', 'min_teammate_dist', 'min_opponent_dist']\n",
    "'''\n",
    "def train_loop(df, indices, model, loss_fn, optimizer, device):\n",
    "    size = len(indices)\n",
    "    play = df.iloc[indices, :]\n",
    "    \n",
    "    numpy_state = np.stack(play['state'].values)\n",
    "    batch_size = numpy_state.shape[0]\n",
    "    numpy_state_input = numpy_state.reshape(batch_size, 1, -1, state_size)[:,:,:,[3,4,7,8,11,12,13,14]]\n",
    "    \n",
    "    true_state = torch.tensor(numpy_state, dtype=torch.float32).to(device=device)\n",
    "    true_action = torch.tensor(np.stack(play['action'].values)[:,0,[3,4,7,8,11,12,13,14]], dtype=torch.float32).to(device=device)\n",
    "    \n",
    "    # shape true state into matrix to pass into CNN\n",
    "    #true_state_mod = true_state.reshape(batch_size, -1, len(true_action))\n",
    "    true_state_mod = torch.tensor(numpy_state_input, dtype=torch.float32).to(device=device)\n",
    "\n",
    "    model.train()  # put model to training mode\n",
    "\n",
    "    #compute prediction and loss\n",
    "    predicted_action = model(true_state_mod)\n",
    "    \n",
    "    loss = loss_fn(predicted_action, true_action)\n",
    "\n",
    "    #Backpropagation\n",
    "    optimizer.zero_grad()\n",
    "    loss.backward()\n",
    "    optimizer.step()\n",
    "    \n",
    "    return loss/size"
   ]
  },
  {
   "cell_type": "code",
   "execution_count": 10,
   "id": "afcb7c95",
   "metadata": {},
   "outputs": [],
   "source": [
    "def test_loop(test_df, model, loss_fn, device):\n",
    "    size = len(test_df)\n",
    "    test_loss = 0\n",
    "    \n",
    "    with torch.no_grad():\n",
    "        for row_index in range(0,len(test_df)):\n",
    "\n",
    "            play = test_df.iloc[row_index, :]\n",
    "\n",
    "            true_state = torch.tensor(play['state'], dtype=torch.float32).to(device=device)\n",
    "            true_action = torch.tensor(play['action'][0,[3,4,7,8,11,12,13,14]], dtype=torch.float32).to(device=device)\n",
    "            \n",
    "            # useful for if testing in batches\n",
    "            #true_state = torch.tensor(np.stack(play['state'].values), dtype=torch.float32).to(device=device)\n",
    "            #true_action = torch.tensor(np.stack(play['action'].values), dtype=torch.float32).to(device=device)\n",
    "\n",
    "            numpy_state_input = play['state'].reshape(1, 1, -1, state_size)[:,:,:,[3,4,7,8,11,12,13,14]]\n",
    "                           \n",
    "            true_state_mod = torch.tensor(numpy_state_input, dtype=torch.float32).to(device=device)\n",
    "\n",
    "            model.eval()  # put model to eval mode\n",
    "\n",
    "            #compute prediction and loss\n",
    "            predicted_action = model(true_state_mod)\n",
    "  \n",
    "            true_action = torch.unsqueeze(true_action, 0)\n",
    "\n",
    "            loss = loss_fn(predicted_action, true_action)\n",
    "            \n",
    "            test_loss += loss\n",
    "        \n",
    "        test_loss = test_loss/size\n",
    "\n",
    "    \n",
    "    return test_loss"
   ]
  },
  {
   "cell_type": "code",
   "execution_count": 13,
   "id": "52db8766",
   "metadata": {},
   "outputs": [
    {
     "name": "stdout",
     "output_type": "stream",
     "text": [
      "Num batches: 2357\n",
      "At epoch 0, iter 0: train loss = 0.014009935781359673\n",
      "At epoch 0, iter 0: val loss = 2.1975460052490234\n",
      "At epoch 0, iter 1178: train loss = 0.005030847154557705\n",
      "At epoch 0, iter 1178: val loss = 0.29499542713165283\n",
      "At epoch 0, iter 2356: train loss = 0.017518991604447365\n",
      "At epoch 0, iter 2356: val loss = 0.2860490083694458\n",
      "At epoch 1, iter 0: train loss = 0.004267571028321981\n",
      "At epoch 1, iter 0: val loss = 0.2881411910057068\n",
      "At epoch 1, iter 1178: train loss = 0.004351135343313217\n",
      "At epoch 1, iter 1178: val loss = 0.28011730313301086\n",
      "At epoch 1, iter 2356: train loss = 0.017322488129138947\n",
      "At epoch 1, iter 2356: val loss = 0.27796420454978943\n",
      "At epoch 2, iter 0: train loss = 0.0042358096688985825\n",
      "At epoch 2, iter 0: val loss = 0.27904003858566284\n",
      "At epoch 2, iter 1178: train loss = 0.004359383136034012\n",
      "At epoch 2, iter 1178: val loss = 0.27592310309410095\n",
      "At epoch 2, iter 2356: train loss = 0.016780538484454155\n",
      "At epoch 2, iter 2356: val loss = 0.2726179361343384\n",
      "At epoch 3, iter 0: train loss = 0.004146597348153591\n",
      "At epoch 3, iter 0: val loss = 0.27229198813438416\n",
      "At epoch 3, iter 1178: train loss = 0.004189512692391872\n",
      "At epoch 3, iter 1178: val loss = 0.27274924516677856\n",
      "At epoch 3, iter 2356: train loss = 0.018050409853458405\n",
      "At epoch 3, iter 2356: val loss = 0.27295559644699097\n"
     ]
    }
   ],
   "source": [
    "import random\n",
    "\n",
    "epochs = 4\n",
    "break_var = False\n",
    "training_loss_list = []\n",
    "val_loss_list = []\n",
    "\n",
    "num_batches = int(len(train_data)/BATCH_SIZE)+1\n",
    "\n",
    "print(f\"Num batches: {num_batches}\")\n",
    "\n",
    "indexes = list(range(0,len(train_data)))\n",
    "\n",
    "np.random.seed(2430)\n",
    "\n",
    "for k in range(epochs):\n",
    "    \n",
    "    random.shuffle(indexes)\n",
    "    \n",
    "    for i in range(num_batches):\n",
    "\n",
    "        start_index = i*BATCH_SIZE\n",
    "        end_index = min(len(train_data), (i+1)*BATCH_SIZE)\n",
    "        \n",
    "        #indices = list(range(start_index, end_index))\n",
    "        indices = indexes[start_index:end_index]\n",
    "\n",
    "        train_loss = train_loop(train_data, indices, cnn_model, mse_loss_fn, cnn_optimizer, device)\n",
    "        \n",
    "        training_loss_list.append(train_loss)\n",
    "\n",
    "        if (i % int(num_batches/2) == 0): #and (i != 0):\n",
    "            val_loss = test_loop(val_data, cnn_model, F.mse_loss, device)\n",
    "            val_loss_list.append(val_loss)\n",
    "            print(f\"At epoch {k}, iter {i}: train loss = {train_loss}\")\n",
    "            print(f\"At epoch {k}, iter {i}: val loss = {val_loss}\")\n",
    "            \n",
    "torch.save(cnn_model.state_dict(), 'opponent_model.pt')"
   ]
  },
  {
   "cell_type": "code",
   "execution_count": 11,
   "id": "8db3d9bf",
   "metadata": {},
   "outputs": [
    {
     "data": {
      "text/plain": [
       "<All keys matched successfully>"
      ]
     },
     "execution_count": 11,
     "metadata": {},
     "output_type": "execute_result"
    }
   ],
   "source": [
    "\n",
    "teammate_model = nn.Sequential(\n",
    "    nn.Conv2d(1, 6, (2,2), stride=1, padding=0),\n",
    "    nn.Flatten(),\n",
    "    nn.Linear(924,300), \n",
    "    nn.LeakyReLU(),\n",
    "    nn.Linear(300,100), \n",
    "    nn.LeakyReLU(),\n",
    "    nn.Linear(100,action_size)\n",
    ")\n",
    "\n",
    "opponent_model = nn.Sequential(\n",
    "    nn.Conv2d(1, 6, (2,2), stride=1, padding=0),\n",
    "    nn.Flatten(),\n",
    "    nn.Linear(924,300), \n",
    "    nn.LeakyReLU(),\n",
    "    nn.Linear(300,100), \n",
    "    nn.LeakyReLU(),\n",
    "    nn.Linear(100,action_size)\n",
    ")\n",
    "\n",
    "teammate_model.to(device)\n",
    "opponent_model.to(device)\n",
    "\n",
    "teammate_model.load_state_dict(torch.load(\"teammate_model.pt\"))\n",
    "opponent_model.load_state_dict(torch.load(\"opponent_model.pt\"))"
   ]
  },
  {
   "cell_type": "code",
   "execution_count": 12,
   "id": "c950c557",
   "metadata": {},
   "outputs": [
    {
     "name": "stdout",
     "output_type": "stream",
     "text": [
      "tensor(0.3003, device='cuda:0')\n",
      "tensor(0.2730, device='cuda:0')\n"
     ]
    }
   ],
   "source": [
    "teammate_loss = test_loop(val_data, teammate_model, F.mse_loss, device)\n",
    "opponent_loss = test_loop(val_data, opponent_model, F.mse_loss, device)\n",
    "\n",
    "print(teammate_loss)\n",
    "print(opponent_loss)"
   ]
  },
  {
   "cell_type": "code",
   "execution_count": null,
   "id": "5cce47a0",
   "metadata": {},
   "outputs": [],
   "source": []
  },
  {
   "cell_type": "code",
   "execution_count": null,
   "id": "80c3d5b2",
   "metadata": {},
   "outputs": [],
   "source": []
  },
  {
   "cell_type": "code",
   "execution_count": null,
   "id": "134032b2",
   "metadata": {},
   "outputs": [],
   "source": []
  }
 ],
 "metadata": {
  "kernelspec": {
   "display_name": "Python 3 (ipykernel)",
   "language": "python",
   "name": "python3"
  },
  "language_info": {
   "codemirror_mode": {
    "name": "ipython",
    "version": 3
   },
   "file_extension": ".py",
   "mimetype": "text/x-python",
   "name": "python",
   "nbconvert_exporter": "python",
   "pygments_lexer": "ipython3",
   "version": "3.9.7"
  }
 },
 "nbformat": 4,
 "nbformat_minor": 5
}
