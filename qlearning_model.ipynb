{
 "cells": [
  {
   "cell_type": "code",
   "execution_count": 1,
   "id": "9f7a8403",
   "metadata": {},
   "outputs": [],
   "source": [
    "import numpy as np\n",
    "import pandas as pd\n",
    "import json\n",
    "import pickle\n",
    "\n",
    "import warnings\n",
    "\n",
    "#import tensorflow as tf\n",
    "\n",
    "import torch\n",
    "import torch.nn as nn\n",
    "import torch.nn.functional as F\n",
    "import torch.optim as optim\n",
    "\n",
    "import torch.utils.data"
   ]
  },
  {
   "cell_type": "code",
   "execution_count": 2,
   "id": "9a88a84b",
   "metadata": {},
   "outputs": [
    {
     "name": "stdout",
     "output_type": "stream",
     "text": [
      "4273\n",
      "   playIndex  timeIndex                                              state  \\\n",
      "0          0         48  [11.4, 42.67, 0.2, 3.07, 102.1, 312.17, 12.42,...   \n",
      "1          0         49  [11.39, 42.66, 0.21, 2.84, 105.48, 199.45, 11....   \n",
      "2          0         50  [11.41, 42.63, 0.47, 2.53, 113.86, 168.36, 11....   \n",
      "3          0         51  [11.45, 42.56, 0.83, 2.53, 110.69, 158.32, 11....   \n",
      "4          0         52  [11.53, 42.45, 1.32, 3.03, 117.3, 148.06, 11.1...   \n",
      "\n",
      "                                          next_state  reward         action  \\\n",
      "0  [11.39, 42.66, 0.21, 2.84, 105.48, 199.45, 11....    0.01   [0.01, 0.01]   \n",
      "1  [11.41, 42.63, 0.47, 2.53, 113.86, 168.36, 11....    0.04  [-0.02, 0.03]   \n",
      "2  [11.45, 42.56, 0.83, 2.53, 110.69, 158.32, 11....    0.08  [-0.04, 0.07]   \n",
      "3  [11.53, 42.45, 1.32, 3.03, 117.3, 148.06, 11.1...    0.14  [-0.08, 0.11]   \n",
      "4  [11.62, 42.32, 1.7, 3.13, 114.42, 144.84, 11.5...    0.16  [-0.09, 0.13]   \n",
      "\n",
      "     next_action  \n",
      "0  [-0.02, 0.03]  \n",
      "1  [-0.04, 0.07]  \n",
      "2  [-0.08, 0.11]  \n",
      "3  [-0.09, 0.13]  \n",
      "4  [-0.16, 0.16]  \n"
     ]
    }
   ],
   "source": [
    "data_df = pd.read_pickle('datasets/all_players_rel_all_actions_group_team.pkl')\n",
    "\n",
    "data_df.loc[:, 'next_action'] = data_df.groupby('playIndex').action.shift(-1)\n",
    "\n",
    "# drop na if using sarsa model\n",
    "sarsa_df = data_df.dropna(axis=0, how='any', inplace=False)\n",
    "\n",
    "print(len(data_df) - len(sarsa_df))\n",
    "\n",
    "print(sarsa_df.head())"
   ]
  },
  {
   "cell_type": "code",
   "execution_count": 3,
   "id": "5173de50",
   "metadata": {},
   "outputs": [
    {
     "data": {
      "text/plain": [
       "221174"
      ]
     },
     "execution_count": 3,
     "metadata": {},
     "output_type": "execute_result"
    }
   ],
   "source": [
    "len(sarsa_df)"
   ]
  },
  {
   "cell_type": "code",
   "execution_count": 4,
   "id": "8a149c5e",
   "metadata": {},
   "outputs": [],
   "source": [
    "#x = sarsa_df.loc[1:2, 'state']\n",
    "\n",
    "#stacked = np.stack(x.values)\n",
    "\n",
    "#dl = torch.utils.data.DataLoader(sarsa_df)"
   ]
  },
  {
   "cell_type": "code",
   "execution_count": 5,
   "id": "6c3176b5",
   "metadata": {},
   "outputs": [],
   "source": [
    "# return batch_size of plays\n",
    "def sample_from_plays(batch_size, df, seed):\n",
    "    \n",
    "    np.random.seed(seed)\n",
    "    \n",
    "    indices = np.random.choice(len(df), batch_size, replace=False)\n",
    "    \n",
    "    plays = df.iloc[indices, :]\n",
    "    \n",
    "    return plays\n",
    "\n",
    "'''\n",
    "Function that splits the data into a training, validation, and test set\n",
    "'''\n",
    "def split_data(dataset, train_split, seed):\n",
    "    np.random.seed(seed)\n",
    "    indices = list(range(len(dataset)))\n",
    "    np.random.shuffle(indices)\n",
    "\n",
    "    train_num = int(len(dataset)*train_split)\n",
    "    val_num = (len(dataset) - int(len(dataset)*train_split))//2\n",
    "\n",
    "    train_indices = indices[0:train_num]\n",
    "    val_indices = indices[train_num:train_num+val_num]\n",
    "    test_indices = indices[train_num+val_num:]\n",
    "\n",
    "    #check to make sure slices correct\n",
    "    assert len(dataset) == len(train_indices) + len(val_indices) + len(test_indices)\n",
    "\n",
    "    #dataset = help.normalize(train_indices, dataset)\n",
    "\n",
    "    train_data = dataset.iloc[train_indices,:]\n",
    "    val_data = dataset.iloc[val_indices,:]\n",
    "    test_data = dataset.iloc[test_indices,:]\n",
    "\n",
    "    return train_data, val_data, test_data\n",
    "    "
   ]
  },
  {
   "cell_type": "code",
   "execution_count": 6,
   "id": "68e8958b",
   "metadata": {},
   "outputs": [
    {
     "name": "stdout",
     "output_type": "stream",
     "text": [
      "Index(['playIndex', 'timeIndex', 'state', 'next_state', 'reward', 'action',\n",
      "       'next_action'],\n",
      "      dtype='object')\n",
      "Length of training data: 154821\n"
     ]
    }
   ],
   "source": [
    "BATCH_SIZE = 64\n",
    "\n",
    "train_data, val_data, test_data = split_data(sarsa_df, 0.7, 2430)\n",
    "\n",
    "#train_loader = torch.utils.data.DataLoader(train_data, batch_size=BATCH_SIZE)\n",
    "#val_loader = torch.utils.data.DataLoader(val_data, batch_size=BATCH_SIZE, shuffle=False)\n",
    "#test_loader = torch.utils.data.DataLoader(test_data, batch_size=BATCH_SIZE, shuffle=False)\n",
    "\n",
    "\n",
    "print(test_data.columns)\n",
    "\n",
    "print(f\"Length of training data: {len(train_data)}\")"
   ]
  },
  {
   "cell_type": "code",
   "execution_count": 7,
   "id": "0a1341bb",
   "metadata": {},
   "outputs": [
    {
     "name": "stdout",
     "output_type": "stream",
     "text": [
      "cuda\n"
     ]
    }
   ],
   "source": [
    "device = 'cuda' if torch.cuda.is_available() else 'cpu'\n",
    "\n",
    "print(device)"
   ]
  },
  {
   "cell_type": "code",
   "execution_count": 8,
   "id": "0513b3b8",
   "metadata": {},
   "outputs": [],
   "source": [
    "'''\n",
    "Neural Network that will represent the Q-function\n",
    "Input: concatenated (state,action) pair\n",
    "Output: value\n",
    "'''\n",
    "\n",
    "'''\n",
    "class Qnet(nn.Module):\n",
    "    def __init__(self, state_size, action_size):\n",
    "        super(Qnet, self).__init__()\n",
    "        self.state_size = state_size\n",
    "        self.action_size = action_size\n",
    "        \n",
    "        self.linear1 = nn.Linear(state_size+action_size, 128)\n",
    "        self.linear2 = nn.Linear(128, 256)\n",
    "        self.linear3 = nn.Linear(256, 128)\n",
    "        self.linear4 = nn.Linear(128,1)\n",
    "        \n",
    "        self.relu = nn.ReLU()\n",
    "        \n",
    "    def forward(self, inp):\n",
    "        \n",
    "        layer1_output = self.relu(self.linear1(inp))\n",
    "        layer2_output = self.relu(self.linear2(layer1_output))\n",
    "        layer3_output = self.relu(self.linear3(layer2_output))\n",
    "        output = self.linear4(layer3_output)\n",
    "        \n",
    "        return output\n",
    "'''\n",
    "\n",
    "'''\n",
    "class Qnet(nn.Module):\n",
    "    def __init__(self, state_size, action_size):\n",
    "        super(Qnet, self).__init__()\n",
    "        self.state_size = state_size\n",
    "        self.action_size = action_size\n",
    "        \n",
    "        #self.batch_initial = nn.BatchNorm1d(state_size+action_size)\n",
    "        self.batch1 = nn.BatchNorm1d(128)\n",
    "        \n",
    "        self.linear1 = nn.Linear(state_size+action_size, 128)\n",
    "        self.linear2 = nn.Linear(128, 256)\n",
    "        self.linear3 = nn.Linear(256, 1)\n",
    "        \n",
    "        self.relu = nn.ReLU()\n",
    "        \n",
    "    def forward(self, inp):\n",
    "        \n",
    "        #inp = self.batch_initial(inp)\n",
    "        \n",
    "        layer1_output = self.relu(self.batch1(self.linear1(inp)))\n",
    "        layer2_output = self.relu(self.linear2(layer1_output))\n",
    "        output = self.linear3(layer2_output)\n",
    "        \n",
    "        return output\n",
    "'''\n",
    "\n",
    "class Qnet(nn.Module):\n",
    "    def __init__(self, state_size, action_size):\n",
    "        super(Qnet, self).__init__()\n",
    "        self.state_size = state_size\n",
    "        self.action_size = action_size\n",
    "        \n",
    "        #self.batch_initial = nn.BatchNorm1d(state_size+action_size)\n",
    "        self.batch1 = nn.BatchNorm1d((state_size+action_size)*2)\n",
    "        \n",
    "        self.linear1 = nn.Linear(state_size+action_size, (state_size+action_size)*2)\n",
    "        self.linear2 = nn.Linear((state_size+action_size)*2, 1)\n",
    "        \n",
    "        self.relu = nn.ReLU()\n",
    "        \n",
    "    def forward(self, inp):\n",
    "        \n",
    "        #inp = self.batch_initial(inp)\n",
    "        \n",
    "        layer1_output = self.relu(self.batch1(self.linear1(inp)))\n",
    "        output = self.linear2(layer1_output)\n",
    "        return output\n",
    "\n"
   ]
  },
  {
   "cell_type": "code",
   "execution_count": 11,
   "id": "41df7ab4",
   "metadata": {},
   "outputs": [],
   "source": [
    "# define hyperparameters\n",
    "iterations = 25000\n",
    "state_size = len(data_df.loc[0,'state'])\n",
    "action_size = 2\n",
    "gamma = 0.99"
   ]
  },
  {
   "cell_type": "code",
   "execution_count": 8,
   "id": "062b5a60",
   "metadata": {},
   "outputs": [
    {
     "name": "stdout",
     "output_type": "stream",
     "text": [
      "State size: 138\n"
     ]
    }
   ],
   "source": [
    "\n",
    "\n",
    "# create models\n",
    "eval_net = Qnet(state_size, action_size).to(device=device)\n",
    "\n",
    "for layer in eval_net.children():\n",
    "    if hasattr(layer, 'reset_parameters'):\n",
    "        layer.reset_parameters()\n",
    "\n",
    "target_net = type(eval_net)(state_size, action_size).to(device=device)\n",
    "target_net.load_state_dict(eval_net.state_dict())\n",
    "\n",
    "# define loss function\n",
    "loss_fn = nn.MSELoss()\n",
    "# define optimizers\n",
    "optimizer = optim.Adam(eval_net.parameters())\n",
    "\n",
    "print(f\"State size: {state_size}\")"
   ]
  },
  {
   "cell_type": "code",
   "execution_count": 9,
   "id": "0e5a4509",
   "metadata": {},
   "outputs": [],
   "source": [
    "#for batch, labels in train_loader:\n",
    "#    print(batch)\n",
    "#    print(labels)\n",
    "    \n",
    "#    break"
   ]
  },
  {
   "cell_type": "code",
   "execution_count": 9,
   "id": "d4ab9d87",
   "metadata": {},
   "outputs": [],
   "source": [
    "\n",
    "def test_loop(test_df, q_model, test_loss_fn, device):\n",
    "    size = len(test_df)\n",
    "    test_loss = 0\n",
    "    q_model.eval()\n",
    "    \n",
    "    with torch.no_grad():\n",
    "        for row_index in range(0,len(test_df)):\n",
    "            #try:\n",
    "            row = test_df.iloc[row_index, :]\n",
    "\n",
    "            state = torch.tensor(row['state'], dtype=torch.float32).to(device=device)\n",
    "            action = torch.tensor(row['action'], dtype=torch.float32).to(device=device)\n",
    "            reward = torch.tensor(row['reward'], dtype=torch.float32).to(device=device)\n",
    "            next_state = torch.tensor(row['next_state'], dtype=torch.float32).to(device=device)\n",
    "            next_action = torch.tensor(row['next_action'], dtype=torch.float32).to(device=device)\n",
    "            \n",
    "            # do this because forget to replace nans in next state in dataset construction\n",
    "            next_state = torch.nan_to_num(next_state, nan=0)\n",
    "\n",
    "            # Update Q\n",
    "            eval_input = torch.cat((state, action), 0)\n",
    "            eval_input = torch.unsqueeze(eval_input, 0)\n",
    "            q_eval = q_model(eval_input)\n",
    "\n",
    "            target_input = torch.cat((next_state, next_action), 0)\n",
    "            target_input = torch.unsqueeze(target_input, 0)\n",
    "            q_target = reward + gamma*q_model(target_input)\n",
    "\n",
    "            loss = test_loss_fn(q_eval, q_target)\n",
    "            test_loss += loss\n",
    "            #except Exception as e:\n",
    "                #print(f\"Row index: {row_index}\")\n",
    "                #print(F\"Exception: {e}\")\n",
    "                #print(row)\n",
    "    \n",
    "        test_loss /= size\n",
    "            #print(f\"Avg loss: {test_loss:>8f} \\n\")\n",
    "\n",
    "    return test_loss\n",
    "        \n",
    "#avg_test_loss = test_loop(test_data, eval_net, F.mse_loss, device)"
   ]
  },
  {
   "cell_type": "code",
   "execution_count": 11,
   "id": "1702df49",
   "metadata": {},
   "outputs": [
    {
     "data": {
      "text/plain": [
       "<All keys matched successfully>"
      ]
     },
     "execution_count": 11,
     "metadata": {},
     "output_type": "execute_result"
    }
   ],
   "source": [
    "########\n",
    "### Random loss is .325604\n",
    "### Use random weights as baseline\n",
    "########\n",
    "untrained_net = type(eval_net)(state_size, action_size).to(device=device)\n",
    "untrained_net.load_state_dict(eval_net.state_dict())"
   ]
  },
  {
   "cell_type": "code",
   "execution_count": null,
   "id": "e9100ca2",
   "metadata": {},
   "outputs": [],
   "source": []
  },
  {
   "cell_type": "code",
   "execution_count": null,
   "id": "dc2caffb",
   "metadata": {},
   "outputs": [],
   "source": []
  },
  {
   "cell_type": "code",
   "execution_count": null,
   "id": "5e31c02a",
   "metadata": {},
   "outputs": [],
   "source": []
  },
  {
   "cell_type": "code",
   "execution_count": 12,
   "id": "32eb430f",
   "metadata": {},
   "outputs": [
    {
     "name": "stdout",
     "output_type": "stream",
     "text": [
      "Num batches: 2420\n",
      "At epoch 0, iter 806: avg. val loss = 0.3155793249607086\n",
      "At epoch 0, iter 1612: avg. val loss = 0.30880865454673767\n",
      "At epoch 0, iter 2418: avg. val loss = 0.3017028272151947\n",
      "At epoch 1, iter 806: avg. val loss = 0.3004000782966614\n",
      "At epoch 1, iter 1612: avg. val loss = 0.29857560992240906\n",
      "At epoch 1, iter 2418: avg. val loss = 0.29723474383354187\n"
     ]
    }
   ],
   "source": [
    "\n",
    "\n",
    "epochs = 2\n",
    "break_var = False\n",
    "loss_list = []\n",
    "\n",
    "num_batches = int(len(train_data)/BATCH_SIZE)+1\n",
    "\n",
    "print(f\"Num batches: {num_batches}\")\n",
    "\n",
    "COPY_TARGETS_INDEX = int(num_batches/3)\n",
    "\n",
    "for k in range(epochs):\n",
    "    eval_net.train()\n",
    "    with warnings.catch_warnings(record=True) as w:\n",
    "        \n",
    "        \n",
    "        #warnings.simplefilter(\"error\")\n",
    "        \n",
    "        for i in range(num_batches):\n",
    "        \n",
    "            # update weights of target network\n",
    "            if i % COPY_TARGETS_INDEX == 0:\n",
    "                target_net.load_state_dict(eval_net.state_dict())\n",
    "\n",
    "\n",
    "            #play = sample_from_plays(BATCH_SIZE, train_data, seed=k)\n",
    "            # get sample from data\n",
    "            start_index = i*BATCH_SIZE\n",
    "            end_index = min(len(train_data), (i+1)*BATCH_SIZE)\n",
    "                            \n",
    "            play = train_data.iloc[list(range(start_index, end_index)), :]\n",
    "\n",
    "            state = torch.tensor(np.stack(play['state'].values), dtype=torch.float32).to(device=device)\n",
    "            action = torch.tensor(np.stack(play['action'].values), dtype=torch.float32).to(device=device)\n",
    "            reward = torch.tensor(play['reward'].values, dtype=torch.float32).to(device=device)\n",
    "            next_state = torch.tensor(np.stack(play['next_state'].values), dtype=torch.float32).to(device=device)\n",
    "            next_action = torch.tensor(np.stack(play['next_action'].values), dtype=torch.float32).to(device=device)\n",
    "            \n",
    "            # do this because forget to replace nans in next state in dataset construction\n",
    "            next_state = torch.nan_to_num(next_state, nan=0)\n",
    "            \n",
    "            # Update Q\n",
    "            eval_input = torch.cat((state, action), 1)\n",
    "            q_eval = eval_net(eval_input)\n",
    "\n",
    "            target_input = torch.cat((next_state, next_action), 1)\n",
    "            q_target = torch.unsqueeze(reward,1) + gamma*target_net(target_input)\n",
    "\n",
    "            loss = loss_fn(q_eval, q_target)\n",
    "            optimizer.zero_grad()\n",
    "            loss.backward()\n",
    "            optimizer.step()\n",
    "\n",
    "            if (i % int(num_batches/3) == 0) and (i != 0):\n",
    "                avg_val_loss = test_loop(val_data, eval_net, F.mse_loss, device)\n",
    "                loss_list.append((k,avg_val_loss))\n",
    "                print(f\"At epoch {k}, iter {i}: avg. val loss = {avg_val_loss}\")\n",
    "                eval_net.train()\n",
    "                \n",
    "            if len(loss_list) > 1:\n",
    "                if loss_list[-1][1] > loss_list[-2][1]:\n",
    "                    break_var = True\n",
    "                    #break\n",
    "                    \n",
    "        #if break_var:\n",
    "        #    break\n",
    "        \n",
    "        if len(w):\n",
    "            print(f\"Batch index {i}\")\n",
    "            print(f\"warning: {w}\")\n",
    "        \n"
   ]
  },
  {
   "cell_type": "code",
   "execution_count": 56,
   "id": "f40b291f",
   "metadata": {},
   "outputs": [
    {
     "data": {
      "image/png": "[encoded data removed]",
      "text/plain": [
       "<Figure size 432x288 with 1 Axes>"
      ]
     },
     "metadata": {
      "needs_background": "light"
     },
     "output_type": "display_data"
    }
   ],
   "source": [
    "import matplotlib.pyplot as plt\n",
    "import os\n",
    "\n",
    "'''\n",
    "metric (str): e.g. 'accuracy', 'loss'\n",
    "'''\n",
    "def plot_history(history_list, metric, filename):\n",
    "    \n",
    "    fig, ax = plt.subplots()\n",
    "\n",
    "    # plotting\n",
    "    ax.plot(list(range(1,len(history_list)+1)), history_list)\n",
    "    plt.title(\"Training Curve\")\n",
    "    plt.xlabel(\"Epochs\")\n",
    "    plt.ylabel(f\"{metric}\")\n",
    "    plt.show()\n",
    "\n",
    "    #file_path = os.path.join(os.path.dirname(os.path.abspath(__file__)), filename)\n",
    "    fig.savefig(filename)\n",
    "    \n",
    "loss_list = [0.3155793249607086, 0.30880865454673767, 0.3017028272151947, 0.3004000782966614, 0.29857560992240906, 0.29723474383354187]\n",
    "    \n",
    "plot_history(loss_list, 'MSE Loss', 'training_plots/val_loss.png')"
   ]
  },
  {
   "cell_type": "code",
   "execution_count": 13,
   "id": "ae4b4933",
   "metadata": {},
   "outputs": [],
   "source": [
    "torch.save(eval_net.state_dict(), 'model_files/sarsa_two.pt')\n",
    "torch.save(untrained_net.state_dict(), 'model_files/sarsa_two_rb.pt')"
   ]
  },
  {
   "cell_type": "code",
   "execution_count": 14,
   "id": "7983bf3c",
   "metadata": {},
   "outputs": [
    {
     "name": "stdout",
     "output_type": "stream",
     "text": [
      "Trained model test MSE: 0.2949032485485077\n",
      "Random baseline model test MSE: 18.92629051208496\n"
     ]
    }
   ],
   "source": [
    "#### compare random baseline on test data\n",
    "test_loss_model = test_loop(test_data, eval_net, F.mse_loss, device)\n",
    "test_loss_rb = test_loop(test_data, untrained_net, F.mse_loss, device)\n",
    "\n",
    "print(f\"Trained model test MSE: {test_loss_model}\")\n",
    "print(f\"Random baseline model test MSE: {test_loss_rb}\")\n"
   ]
  },
  {
   "cell_type": "code",
   "execution_count": null,
   "id": "3a2ef294",
   "metadata": {},
   "outputs": [],
   "source": []
  },
  {
   "cell_type": "code",
   "execution_count": 12,
   "id": "306fe859",
   "metadata": {},
   "outputs": [
    {
     "data": {
      "text/plain": [
       "Qnet(\n",
       "  (batch1): BatchNorm1d(280, eps=1e-05, momentum=0.1, affine=True, track_running_stats=True)\n",
       "  (linear1): Linear(in_features=140, out_features=280, bias=True)\n",
       "  (linear2): Linear(in_features=280, out_features=1, bias=True)\n",
       "  (relu): ReLU()\n",
       ")"
      ]
     },
     "execution_count": 12,
     "metadata": {},
     "output_type": "execute_result"
    }
   ],
   "source": [
    "eval_net = Qnet(state_size, action_size).to(device=device)\n",
    "eval_net.load_state_dict(torch.load(\"model_files/sarsa_two.pt\"))\n",
    "eval_net.eval()"
   ]
  },
  {
   "cell_type": "code",
   "execution_count": null,
   "id": "5db8e41a",
   "metadata": {},
   "outputs": [],
   "source": []
  },
  {
   "cell_type": "code",
   "execution_count": 108,
   "id": "09498458",
   "metadata": {},
   "outputs": [],
   "source": [
    "eval_net.eval()\n",
    "\n",
    "from scipy import stats\n",
    "\n",
    "def test_quantile_for_play(df, row_index, num_simulations, verbose=False):\n",
    "\n",
    "    sample_row = df.iloc[row_index,:]\n",
    "    \n",
    "    state = torch.tensor(sample_row['state'], dtype=torch.float32).to(device=device)\n",
    "    action = torch.tensor(sample_row['action'], dtype=torch.float32).to(device=device)\n",
    "    \n",
    "    list_q_values = []\n",
    "    list_actions = []\n",
    "    q_value_dict = {}\n",
    "\n",
    "    for k in range(num_simulations):\n",
    "\n",
    "\n",
    "        radius = np.linalg.norm(sample_row['action']) * np.sqrt(np.random.uniform())\n",
    "\n",
    "        theta = np.random.uniform()*2*np.pi\n",
    "\n",
    "        sampled_action = np.array([radius*np.cos(theta), radius*np.sin(theta)])\n",
    "\n",
    "        sampled_action = torch.tensor(sampled_action, dtype=torch.float32).to(device=device)\n",
    "\n",
    "        simulated_input = torch.cat((state, sampled_action), 0)\n",
    "        simulated_input = torch.unsqueeze(simulated_input, 0)\n",
    "        sim_q_value = eval_net(simulated_input).cpu().detach()\n",
    "\n",
    "        #print(f\"Simulated Q-value: {output}\")\n",
    "        list_q_values.append(sim_q_value)\n",
    "        list_actions.append(sampled_action)\n",
    "\n",
    "        #simulated_q_values.append(output)\n",
    "        q_value_dict[sim_q_value] = sampled_action\n",
    "\n",
    "    true_value_input = torch.cat((state, action), 0)\n",
    "    true_value_input = torch.unsqueeze(true_value_input, 0)\n",
    "    true_output = eval_net(true_value_input).cpu().detach()\n",
    "    \n",
    "    list_q_values.append(true_output)\n",
    "    list_actions.append(action)\n",
    "\n",
    "    max_q = max(q_value_dict.keys())\n",
    "\n",
    "    if verbose:\n",
    "        print(f\"True Q-value: {true_output}\")\n",
    "        print(f\"True action: {sample_row['action']}\")\n",
    "        print(f\"Max q-value from simulations: {max_q}\")\n",
    "        print(f\"Max Q action: {q_value_dict[max_q]}\")\n",
    "\n",
    "    cpu_true_output = true_output.cpu().detach().numpy()\n",
    "    cpu_keys = torch.stack(list(q_value_dict.keys())).reshape(-1).detach().cpu()\n",
    "\n",
    "    percentile = stats.percentileofscore(cpu_keys, cpu_true_output, kind='weak')\n",
    "    percentile_rank = stats.percentileofscore(cpu_keys, cpu_true_output, kind='rank')\n",
    "    \n",
    "    if verbose:\n",
    "        print(f\"Percentile (weak): {percentile}\")\n",
    "        print(f\"Percentile (rank): {percentile_rank}\")\n",
    "\n",
    "        print(f\"99th percentile {np.percentile(cpu_keys, 99)}\")\n",
    "        print(f\"100th percentile {np.percentile(cpu_keys, 100)}\")\n",
    "        print(f\"True q-val: {true_output}\")\n",
    "        \n",
    "    return percentile_rank, list_q_values, list_actions\n",
    "\n"
   ]
  },
  {
   "cell_type": "code",
   "execution_count": 58,
   "id": "56764b37",
   "metadata": {},
   "outputs": [
    {
     "data": {
      "image/png": "[encoded data removed]",
      "text/plain": [
       "<Figure size 432x288 with 1 Axes>"
      ]
     },
     "metadata": {
      "needs_background": "light"
     },
     "output_type": "display_data"
    }
   ],
   "source": [
    "percentile_list = []\n",
    "for i in range(1000):\n",
    "    \n",
    "    percentile_rank, q_list, action_list = test_quantile_for_play(test_data, i, 100)\n",
    "    \n",
    "    if percentile_rank > 100:\n",
    "        print(f\"at index {i} percentile rank {percentile_rank}\")\n",
    "        \n",
    "    percentile_list.append(percentile_rank)\n",
    "\n",
    "plt.hist(percentile_list, bins='auto')\n",
    "plt.title(\"Histogram of Percentile of True Action Taken\")\n",
    "plt.show\n",
    "\n",
    "plt.savefig(\"training_plots/quantile_hist.png\")\n"
   ]
  },
  {
   "cell_type": "code",
   "execution_count": 114,
   "id": "154da432",
   "metadata": {},
   "outputs": [
    {
     "name": "stdout",
     "output_type": "stream",
     "text": [
      "[tensor([[6.0007]]), tensor([[6.0892]]), tensor([[6.0307]]), tensor([[5.9816]])]\n"
     ]
    },
    {
     "data": {
      "image/png": "[encoded data removed]",
      "text/plain": [
       "<Figure size 432x288 with 1 Axes>"
      ]
     },
     "metadata": {
      "needs_background": "light"
     },
     "output_type": "display_data"
    },
    {
     "data": {
      "text/plain": [
       "<Figure size 432x288 with 0 Axes>"
      ]
     },
     "metadata": {},
     "output_type": "display_data"
    }
   ],
   "source": [
    "percentile_rank, q_list, action_list = test_quantile_for_play(test_data, 1, 100)\n",
    "\n",
    "x_list = [action[0].detach().cpu() for action in action_list]\n",
    "y_list = [action[1].detach().cpu() for action in action_list]\n",
    "#x_list.append(action_list[-1][0])\n",
    "#y_list.append(action_list[-1][1])\n",
    "\n",
    "#q_list[-1] = q_list[-1].detach().cpu()\n",
    "\n",
    "print(q_list[-4:])\n",
    "\n",
    "#x_list.append(true_action[0])\n",
    "#y_list.append(true_action[1])\n",
    "#q_list.append()\n",
    "\n",
    "fig, ax = plt.subplots()\n",
    "\n",
    "ax.scatter(x_list, y_list, c=q_list, s=50, cmap='gray')\n",
    "#ax.scatter(true_action[0], true_action[1], c='blue', s=50)\n",
    "ax.annotate('TRUE', (action_list[-1][0], action_list[-1][1]))\n",
    "plt.title(\"Training Curve\")\n",
    "plt.xlabel(\"X pos\")\n",
    "plt.ylabel(\"Y pos\")\n",
    "plt.show()\n",
    "\n",
    "plt.savefig(\"general_images/same_action.png\")\n"
   ]
  },
  {
   "cell_type": "code",
   "execution_count": 26,
   "id": "2e665bbe",
   "metadata": {},
   "outputs": [
    {
     "data": {
      "image/png": "[encoded data removed]",
      "text/plain": [
       "<Figure size 864x455.76 with 1 Axes>"
      ]
     },
     "metadata": {
      "needs_background": "light"
     },
     "output_type": "display_data"
    }
   ],
   "source": [
    "\n",
    "\n",
    "numpy_q_action = q_value_dict[max_q].cpu()\n",
    "\n",
    "#first_entry = tracking2018.query('time == @time and gameId == @gameId')\n",
    "fig, ax = create_football_field()\n",
    "ax.scatter(x=sample_row['state'][0], y=sample_row['state'][1], color='red', s=30)\n",
    "ax.scatter(x=sample_row['next_state'][0], y=sample_row['next_state'][1], color='red', s=30)\n",
    "ax.scatter(x=sample_row['state'][0] + numpy_q_action[0], y=sample_row['state'][1] + numpy_q_action[1], color='blue', s=30)\n",
    "plt.title('Plot Action')\n",
    "#plt.legend()\n",
    "plt.show()"
   ]
  },
  {
   "cell_type": "code",
   "execution_count": 16,
   "id": "96e83024",
   "metadata": {},
   "outputs": [],
   "source": [
    "import os\n",
    "import seaborn as sns\n",
    "import datetime\n",
    "\n",
    "import matplotlib.pyplot as plt\n",
    "import matplotlib.patches as patches\n",
    "from matplotlib.animation import FuncAnimation"
   ]
  },
  {
   "cell_type": "code",
   "execution_count": 17,
   "id": "fc7fe999",
   "metadata": {},
   "outputs": [
    {
     "data": {
      "image/png": "[encoded data removed]",
      "text/plain": [
       "<Figure size 864x455.76 with 1 Axes>"
      ]
     },
     "metadata": {
      "needs_background": "light"
     },
     "output_type": "display_data"
    }
   ],
   "source": [
    "def create_football_field(linenumbers=True,\n",
    "                          endzones=True,\n",
    "                          highlight_line=False,\n",
    "                          highlight_line_number=50,\n",
    "                          highlighted_name='Line of Scrimmage',\n",
    "                          fifty_is_los=False,\n",
    "                          figsize=(12, 6.33)):\n",
    "    \"\"\"\n",
    "    Function that plots the football field for viewing plays.\n",
    "    Allows for showing or hiding endzones.\n",
    "    \"\"\"\n",
    "    rect = patches.Rectangle((0, 0), 120, 53.3, linewidth=0.1,\n",
    "                             edgecolor='r', facecolor='darkgreen', zorder=0)\n",
    "\n",
    "    fig, ax = plt.subplots(1, figsize=figsize)\n",
    "    ax.add_patch(rect)\n",
    "\n",
    "    plt.plot([10, 10, 10, 20, 20, 30, 30, 40, 40, 50, 50, 60, 60, 70, 70, 80,\n",
    "              80, 90, 90, 100, 100, 110, 110, 120, 0, 0, 120, 120],\n",
    "             [0, 0, 53.3, 53.3, 0, 0, 53.3, 53.3, 0, 0, 53.3, 53.3, 0, 0, 53.3,\n",
    "              53.3, 0, 0, 53.3, 53.3, 0, 0, 53.3, 53.3, 53.3, 0, 0, 53.3],\n",
    "             color='white')\n",
    "    if fifty_is_los:\n",
    "        plt.plot([60, 60], [0, 53.3], color='gold')\n",
    "        plt.text(62, 50, '<- Player Yardline at Snap', color='gold')\n",
    "    # Endzones\n",
    "    if endzones:\n",
    "        ez1 = patches.Rectangle((0, 0), 10, 53.3,\n",
    "                                linewidth=0.1,\n",
    "                                edgecolor='r',\n",
    "                                facecolor='blue',\n",
    "                                alpha=0.2,\n",
    "                                zorder=0)\n",
    "        ez2 = patches.Rectangle((110, 0), 120, 53.3,\n",
    "                                linewidth=0.1,\n",
    "                                edgecolor='r',\n",
    "                                facecolor='blue',\n",
    "                                alpha=0.2,\n",
    "                                zorder=0)\n",
    "        ax.add_patch(ez1)\n",
    "        ax.add_patch(ez2)\n",
    "    plt.xlim(0, 120)\n",
    "    plt.ylim(-5, 58.3)\n",
    "    plt.axis('off')\n",
    "    if linenumbers:\n",
    "        for x in range(20, 110, 10):\n",
    "            numb = x\n",
    "            if x > 50:\n",
    "                numb = 120 - x\n",
    "            plt.text(x, 5, str(numb - 10),\n",
    "                     horizontalalignment='center',\n",
    "                     fontsize=20,  # fontname='Arial',\n",
    "                     color='white')\n",
    "            plt.text(x - 0.95, 53.3 - 5, str(numb - 10),\n",
    "                     horizontalalignment='center',\n",
    "                     fontsize=20,  # fontname='Arial',\n",
    "                     color='white', rotation=180)\n",
    "    if endzones:\n",
    "        hash_range = range(11, 110)\n",
    "    else:\n",
    "        hash_range = range(1, 120)\n",
    "\n",
    "    for x in hash_range:\n",
    "        ax.plot([x, x], [0.4, 0.7], color='white')\n",
    "        ax.plot([x, x], [53.0, 52.5], color='white')\n",
    "        ax.plot([x, x], [22.91, 23.57], color='white')\n",
    "        ax.plot([x, x], [29.73, 30.39], color='white')\n",
    "\n",
    "    if highlight_line:\n",
    "        hl = highlight_line_number + 10\n",
    "        plt.plot([hl, hl], [0, 53.3], color='yellow')\n",
    "        plt.text(hl + 2, 50, '<- {}'.format(highlighted_name),\n",
    "                 color='yellow')\n",
    "    return fig, ax\n",
    "\n",
    "fig, ax = create_football_field()\n",
    "plt.show()"
   ]
  },
  {
   "cell_type": "code",
   "execution_count": null,
   "id": "e2977eac",
   "metadata": {},
   "outputs": [],
   "source": [
    "test_data.iloc[0,:]"
   ]
  },
  {
   "cell_type": "code",
   "execution_count": null,
   "id": "b2513b15",
   "metadata": {},
   "outputs": [],
   "source": [
    "first_entry = tracking2018.query('time == @time and gameId == @gameId')\n",
    "fig, ax = create_football_field()\n",
    "first_entry.query(\"team == 'away'\") \\\n",
    "    .plot(x='x', y='y', kind='scatter', ax=ax, color='red', s=30, legend='Away')\n",
    "first_entry.query(\"team == 'home'\") \\\n",
    "    .plot(x='x', y='y', kind='scatter', ax=ax, color='blue', s=30, legend='Home')\n",
    "first_entry.query(\"displayName == 'football'\") \\\n",
    "    .plot(x='x', y='y', kind='scatter', ax=ax, color='orange', s=50, legend='Football')\n",
    "plt.title('Plot Teams')\n",
    "plt.legend()\n",
    "plt.show()"
   ]
  },
  {
   "cell_type": "code",
   "execution_count": null,
   "id": "6a7402da",
   "metadata": {},
   "outputs": [],
   "source": []
  },
  {
   "cell_type": "code",
   "execution_count": null,
   "id": "0786e5ed",
   "metadata": {},
   "outputs": [],
   "source": []
  },
  {
   "cell_type": "code",
   "execution_count": null,
   "id": "6dd8fff1",
   "metadata": {},
   "outputs": [],
   "source": []
  },
  {
   "cell_type": "code",
   "execution_count": null,
   "id": "1c622ddc",
   "metadata": {},
   "outputs": [],
   "source": []
  },
  {
   "cell_type": "code",
   "execution_count": null,
   "id": "556f8e91",
   "metadata": {},
   "outputs": [],
   "source": []
  }
 ],
 "metadata": {
  "kernelspec": {
   "display_name": "Python 3 (ipykernel)",
   "language": "python",
   "name": "python3"
  },
  "language_info": {
   "codemirror_mode": {
    "name": "ipython",
    "version": 3
   },
   "file_extension": ".py",
   "mimetype": "text/x-python",
   "name": "python",
   "nbconvert_exporter": "python",
   "pygments_lexer": "ipython3",
   "version": "3.9.7"
  }
 },
 "nbformat": 4,
 "nbformat_minor": 5
}
