{
 "cells": [
  {
   "cell_type": "code",
   "execution_count": 1,
   "id": "723dc5e8",
   "metadata": {},
   "outputs": [],
   "source": [
    "import numpy as np\n",
    "import pandas as pd\n",
    "import json\n",
    "import pickle\n",
    "import matplotlib.pyplot as plt\n",
    "import matplotlib.pyplot as plt\n",
    "import matplotlib.patches as patches\n",
    "\n",
    "import torch\n",
    "import torch.nn as nn\n",
    "import torch.nn.functional as F\n",
    "import torch.optim as optim\n",
    "\n",
    "import torch.utils.data\n",
    "\n",
    "import matplotlib.pyplot as plt\n",
    "import os"
   ]
  },
  {
   "cell_type": "code",
   "execution_count": 2,
   "id": "68523e44",
   "metadata": {},
   "outputs": [],
   "source": [
    "'''\n",
    "Function that splits the data into a training, validation, and test set\n",
    "'''\n",
    "def split_data(dataset, train_split, seed):\n",
    "    np.random.seed(seed)\n",
    "    indices = list(range(len(dataset)))\n",
    "    np.random.shuffle(indices)\n",
    "\n",
    "    train_num = int(len(dataset)*train_split)\n",
    "    val_num = (len(dataset) - int(len(dataset)*train_split))//2\n",
    "\n",
    "    train_indices = indices[0:train_num]\n",
    "    val_indices = indices[train_num:train_num+val_num]\n",
    "    test_indices = indices[train_num+val_num:]\n",
    "\n",
    "    #check to make sure slices correct\n",
    "    assert len(dataset) == len(train_indices) + len(val_indices) + len(test_indices)\n",
    "\n",
    "    #dataset = help.normalize(train_indices, dataset)\n",
    "\n",
    "    train_data = dataset.iloc[train_indices,:]\n",
    "    val_data = dataset.iloc[val_indices,:]\n",
    "    test_data = dataset.iloc[test_indices,:]\n",
    "\n",
    "    return train_data, val_data, test_data\n",
    "\n",
    "data_df = pd.read_pickle('datasets/all_players_rel_all_actions_group_team_six_action_state.pkl')\n",
    "train_data, val_data, test_data = split_data(data_df, 0.7, 2430)"
   ]
  },
  {
   "cell_type": "code",
   "execution_count": 3,
   "id": "a4a7bd67",
   "metadata": {},
   "outputs": [],
   "source": [
    "'''\n",
    "Loop to test model loss on held-out test data\n",
    "'''\n",
    "def test_loop(test_df, model, loss_fn, device):\n",
    "    size = len(test_df)\n",
    "    test_loss = 0\n",
    "    \n",
    "    with torch.no_grad():\n",
    "        for row_index in range(0,len(test_df)):\n",
    "\n",
    "            play = test_df.iloc[row_index, :]\n",
    "\n",
    "            true_state = torch.tensor(play['state'], dtype=torch.float32).to(device=device)\n",
    "            true_action = torch.tensor(play['action'], dtype=torch.float32).to(device=device)\n",
    "            \n",
    "            # useful for if testing in batches\n",
    "            #true_state = torch.tensor(np.stack(play['state'].values), dtype=torch.float32).to(device=device)\n",
    "            #true_action = torch.tensor(np.stack(play['action'].values), dtype=torch.float32).to(device=device)\n",
    "\n",
    "            numpy_state_input = play['state'].reshape(1, 1, -1, action_size)\n",
    "                           \n",
    "            true_state_mod = torch.tensor(numpy_state_input, dtype=torch.float32).to(device=device)\n",
    "            \n",
    "            \n",
    "            # do this because forget to replace nans in next state in dataset construction\n",
    "            #next_state = torch.nan_to_num(next_state, nan=0)\n",
    "\n",
    "            # Why does a state have nan values?\n",
    "            #state = torch.nan_to_num(state, nan=0)\n",
    "\n",
    "            model.eval()  # put model to eval mode\n",
    "\n",
    "            #compute prediction and loss\n",
    "            predicted_action = model(true_state_mod)\n",
    "            \n",
    "            true_action = torch.unsqueeze(true_action, 0)\n",
    "            \n",
    "            loss = loss_fn(predicted_action, true_action)\n",
    "            \n",
    "            test_loss += loss\n",
    "        \n",
    "        test_loss /= size\n",
    "\n",
    "    \n",
    "    return test_loss"
   ]
  },
  {
   "cell_type": "code",
   "execution_count": 4,
   "id": "fdda1412",
   "metadata": {},
   "outputs": [],
   "source": [
    "'''\n",
    "Creates matplot football viz\n",
    "'''\n",
    "def create_football_field(linenumbers=True,\n",
    "                          endzones=True,\n",
    "                          highlight_line=False,\n",
    "                          highlight_line_number=50,\n",
    "                          highlighted_name='Line of Scrimmage',\n",
    "                          fifty_is_los=False,\n",
    "                          figsize=(12, 6.33)):\n",
    "    \"\"\"\n",
    "    Function that plots the football field for viewing plays.\n",
    "    Allows for showing or hiding endzones.\n",
    "    \"\"\"\n",
    "    rect = patches.Rectangle((0, 0), 120, 53.3, linewidth=0.1,\n",
    "                             edgecolor='r', facecolor='darkgreen', zorder=0)\n",
    "\n",
    "    fig, ax = plt.subplots(1, figsize=figsize)\n",
    "    ax.add_patch(rect)\n",
    "\n",
    "    plt.plot([10, 10, 10, 20, 20, 30, 30, 40, 40, 50, 50, 60, 60, 70, 70, 80,\n",
    "              80, 90, 90, 100, 100, 110, 110, 120, 0, 0, 120, 120],\n",
    "             [0, 0, 53.3, 53.3, 0, 0, 53.3, 53.3, 0, 0, 53.3, 53.3, 0, 0, 53.3,\n",
    "              53.3, 0, 0, 53.3, 53.3, 0, 0, 53.3, 53.3, 53.3, 0, 0, 53.3],\n",
    "             color='white')\n",
    "    if fifty_is_los:\n",
    "        plt.plot([60, 60], [0, 53.3], color='gold')\n",
    "        plt.text(62, 50, '<- Player Yardline at Snap', color='gold')\n",
    "    # Endzones\n",
    "    if endzones:\n",
    "        ez1 = patches.Rectangle((0, 0), 10, 53.3,\n",
    "                                linewidth=0.1,\n",
    "                                edgecolor='r',\n",
    "                                facecolor='blue',\n",
    "                                alpha=0.2,\n",
    "                                zorder=0)\n",
    "        ez2 = patches.Rectangle((110, 0), 120, 53.3,\n",
    "                                linewidth=0.1,\n",
    "                                edgecolor='r',\n",
    "                                facecolor='blue',\n",
    "                                alpha=0.2,\n",
    "                                zorder=0)\n",
    "        ax.add_patch(ez1)\n",
    "        ax.add_patch(ez2)\n",
    "    plt.xlim(0, 120)\n",
    "    plt.ylim(-5, 58.3)\n",
    "    plt.axis('off')\n",
    "    if linenumbers:\n",
    "        for x in range(20, 110, 10):\n",
    "            numb = x\n",
    "            if x > 50:\n",
    "                numb = 120 - x\n",
    "            plt.text(x, 5, str(numb - 10),\n",
    "                     horizontalalignment='center',\n",
    "                     fontsize=20,  # fontname='Arial',\n",
    "                     color='white')\n",
    "            plt.text(x - 0.95, 53.3 - 5, str(numb - 10),\n",
    "                     horizontalalignment='center',\n",
    "                     fontsize=20,  # fontname='Arial',\n",
    "                     color='white', rotation=180)\n",
    "    if endzones:\n",
    "        hash_range = range(11, 110)\n",
    "    else:\n",
    "        hash_range = range(1, 120)\n",
    "\n",
    "    for x in hash_range:\n",
    "        ax.plot([x, x], [0.4, 0.7], color='white')\n",
    "        ax.plot([x, x], [53.0, 52.5], color='white')\n",
    "        ax.plot([x, x], [22.91, 23.57], color='white')\n",
    "        ax.plot([x, x], [29.73, 30.39], color='white')\n",
    "\n",
    "    if highlight_line:\n",
    "        hl = highlight_line_number + 10\n",
    "        plt.plot([hl, hl], [0, 53.3], color='yellow')\n",
    "        plt.text(hl + 2, 50, '<- {}'.format(highlighted_name),\n",
    "                 color='yellow')\n",
    "    return fig, ax"
   ]
  },
  {
   "cell_type": "code",
   "execution_count": 5,
   "id": "d7447536",
   "metadata": {},
   "outputs": [
    {
     "name": "stdout",
     "output_type": "stream",
     "text": [
      "cuda\n"
     ]
    }
   ],
   "source": [
    "device = 'cuda' if torch.cuda.is_available() else 'cpu'\n",
    "\n",
    "print(device)"
   ]
  },
  {
   "cell_type": "code",
   "execution_count": 6,
   "id": "a7ef6286",
   "metadata": {},
   "outputs": [
    {
     "data": {
      "text/plain": [
       "Sequential(\n",
       "  (0): Conv2d(1, 12, kernel_size=(12, 1), stride=(1, 1))\n",
       "  (1): LeakyReLU(negative_slope=0.01)\n",
       "  (2): Conv2d(12, 24, kernel_size=(6, 1), stride=(1, 1))\n",
       "  (3): LeakyReLU(negative_slope=0.01)\n",
       "  (4): Conv2d(24, 48, kernel_size=(1, 1), stride=(1, 1))\n",
       "  (5): Flatten(start_dim=1, end_dim=-1)\n",
       "  (6): Linear(in_features=2016, out_features=6, bias=True)\n",
       ")"
      ]
     },
     "execution_count": 6,
     "metadata": {},
     "output_type": "execute_result"
    }
   ],
   "source": [
    "action_size = 6\n",
    "\n",
    "cnn_model = nn.Sequential(\n",
    "    nn.Conv2d(1, 12, (12,1), stride=1, padding=0),\n",
    "    nn.LeakyReLU(),\n",
    "    nn.Conv2d(12, 24, (6, 1)),\n",
    "    nn.LeakyReLU(),\n",
    "    nn.Conv2d(24, 48, (1,1)),\n",
    "    nn.Flatten(),\n",
    "    nn.Linear(48*7*6,action_size)\n",
    ")\n",
    "\n",
    "cnn_model.to(device=device)"
   ]
  },
  {
   "cell_type": "code",
   "execution_count": 7,
   "id": "4af03a5a",
   "metadata": {},
   "outputs": [
    {
     "data": {
      "text/plain": [
       "Sequential(\n",
       "  (0): Conv2d(1, 12, kernel_size=(12, 1), stride=(1, 1))\n",
       "  (1): LeakyReLU(negative_slope=0.01)\n",
       "  (2): Conv2d(12, 24, kernel_size=(6, 1), stride=(1, 1))\n",
       "  (3): LeakyReLU(negative_slope=0.01)\n",
       "  (4): Conv2d(24, 48, kernel_size=(1, 1), stride=(1, 1))\n",
       "  (5): Flatten(start_dim=1, end_dim=-1)\n",
       "  (6): Linear(in_features=2016, out_features=6, bias=True)\n",
       ")"
      ]
     },
     "execution_count": 7,
     "metadata": {},
     "output_type": "execute_result"
    }
   ],
   "source": [
    "cnn_model.load_state_dict(torch.load(\"saved_models/cnn_model_2.pt\"))\n",
    "cnn_model.eval()"
   ]
  },
  {
   "cell_type": "code",
   "execution_count": 8,
   "id": "962c7fa8",
   "metadata": {},
   "outputs": [],
   "source": [
    "def compare_actions(df, row_index, cnn_model, verbose=False, save=False):\n",
    "    \n",
    "    play = df.iloc[row_index, :]\n",
    "\n",
    "    numpy_state_input = play['state'].reshape(1, 1, -1, action_size)\n",
    "    true_state_mod = torch.tensor(numpy_state_input, dtype=torch.float32).to(device=device)\n",
    "    \n",
    "    cnn_model.eval()\n",
    "    next_action = cnn_model(true_state_mod).detach().cpu()\n",
    "    \n",
    "    print(f\"next action: {next_action}\")\n",
    "    \n",
    "    true_action = play['action']\n",
    "    print(f\"true action: {true_action}\")\n",
    "\n",
    "    fig, ax = plt.subplots()\n",
    "\n",
    "    ax.scatter(true_action[0], true_action[1], c='red', s=50)\n",
    "    ax.scatter(next_action[0,0], next_action[0,1], c='blue', s=50)\n",
    "    ax.annotate('TRUE', (true_action[0], true_action[1]) )\n",
    "    #ax.annotate('PREDICTED', (actor_next_action[0,0].detach().cpu(), actor_next_action[0,1].detach().cpu()))\n",
    "    plt.title(\"True vs Predicted Action\")\n",
    "    plt.xlabel(\"X pos\")\n",
    "    plt.ylabel(\"Y pos\")\n",
    "    plt.xlim(-3,3)\n",
    "    plt.ylim(-3,3)\n",
    "\n",
    "    if save:\n",
    "        plt.savefig(\"general_images/cnn2_prediction.png\")\n",
    "    plt.show()"
   ]
  },
  {
   "cell_type": "code",
   "execution_count": null,
   "id": "bc3ff181",
   "metadata": {},
   "outputs": [],
   "source": [
    "for row_index in range(10,20):\n",
    "    compare_actions(test_data, row_index, cnn_model, verbose=False)"
   ]
  },
  {
   "cell_type": "code",
   "execution_count": 9,
   "id": "f86ef909",
   "metadata": {},
   "outputs": [],
   "source": [
    "tracking2018 = pd.read_csv(\"csv/tracking2018.csv\")\n",
    "tracking2019 = pd.read_csv(\"csv/tracking2019.csv\")\n",
    "tracking2020 = pd.read_csv(\"csv/tracking2020.csv\")"
   ]
  },
  {
   "cell_type": "code",
   "execution_count": 22,
   "id": "8820a567",
   "metadata": {},
   "outputs": [
    {
     "name": "stdout",
     "output_type": "stream",
     "text": [
      "current state: x=75.6500015258789, y=45.29999923706055\n",
      "true next state: x=75.17, y=45.98\n",
      "predicted next state: x=75.98371124267578, y=45.10009002685547\n"
     ]
    },
    {
     "data": {
      "image/png": "[encoded data removed]",
      "text/plain": [
       "<Figure size 864x455.76 with 1 Axes>"
      ]
     },
     "metadata": {
      "needs_background": "light"
     },
     "output_type": "display_data"
    },
    {
     "name": "stderr",
     "output_type": "stream",
     "text": [
      "/tmp/ipykernel_1944/2526994725.py:72: MatplotlibDeprecationWarning: \n",
      "The zoom function was deprecated in Matplotlib 3.3 and will be removed two minor releases later.\n",
      "  ax2.xaxis.zoom(3)\n",
      "/tmp/ipykernel_1944/2526994725.py:73: MatplotlibDeprecationWarning: \n",
      "The zoom function was deprecated in Matplotlib 3.3 and will be removed two minor releases later.\n",
      "  ax2.yaxis.zoom(1)\n"
     ]
    },
    {
     "data": {
      "image/png": "[encoded data removed]",
      "text/plain": [
       "<Figure size 864x455.76 with 1 Axes>"
      ]
     },
     "metadata": {
      "needs_background": "light"
     },
     "output_type": "display_data"
    }
   ],
   "source": [
    "'''\n",
    "Vizualize an entry and actions\n",
    "'''\n",
    "\n",
    "test_data_entry = test_data.iloc[1, :]\n",
    "\n",
    "\n",
    "season = test_data_entry['season']\n",
    "playId = test_data_entry['playId']\n",
    "gameId = test_data_entry['gameId']\n",
    "timeIndex = test_data_entry['timeIndex']\n",
    "\n",
    "# get DF of entire play (includes all timesteps of play)\n",
    "if season == '2019':\n",
    "    play_df = tracking2019.query('playId == @playId and gameId == @gameId', inplace=False)\n",
    "elif season == '2018':\n",
    "    play_df = tracking2018.query('playId == @playId and gameId == @gameId', inplace=False)\n",
    "elif season == '2020':\n",
    "    play_df = tracking2020.query('playId == @playId and gameId == @gameId', inplace=False)\n",
    "else:\n",
    "    print('could not find')\n",
    "\n",
    "\n",
    "# isolate specific time step we are looking at with ENTRY (from csv data)\n",
    "all_time_steps = play_df.loc[:,'time'].unique()\n",
    "time = all_time_steps[timeIndex]\n",
    "entry = play_df.query('time == @time')\n",
    " \n",
    "# calculate needed states from test data\n",
    "true_state = torch.tensor(test_data_entry['state'], dtype=torch.float32)\n",
    "true_action = torch.tensor(test_data_entry['action'], dtype=torch.float32)\n",
    "numpy_state_input = test_data_entry['state'].reshape(1, 1, -1, action_size)\n",
    "next_x = test_data_entry['next_state'][0]\n",
    "next_y = test_data_entry['next_state'][1]\n",
    "\n",
    "# get model output\n",
    "true_state_mod = torch.tensor(numpy_state_input, dtype=torch.float32).to(device=device)\n",
    "cnn_model.eval()\n",
    "next_action = cnn_model(true_state_mod).detach().cpu()\n",
    "\n",
    "predicted_x = true_state[0] + next_action[0][0]\n",
    "predicted_y = true_state[1] + next_action[0][1]\n",
    "\n",
    "print(f\"current state: x={true_state[0]}, y={true_state[1]}\")\n",
    "print(f\"true next state: x={next_x}, y={next_y}\")\n",
    "print(f\"predicted next state: x={predicted_x}, y={predicted_y}\")\n",
    "\n",
    "\n",
    "d = {'new_x': [next_x], 'new_y': [next_y]}\n",
    "new_pd_df = pd.DataFrame(data=d)\n",
    "\n",
    "pred_d = {'predicted_x': [predicted_x], 'predicted_y': [predicted_y]}\n",
    "pred_df = pd.DataFrame(data=pred_d)\n",
    "\n",
    "fig, ax = create_football_field()\n",
    "\n",
    "entry.query(\"team == 'away'\") \\\n",
    "    .plot(x='x', y='y', kind='scatter', ax=ax, color='red', s=30, label='Away')\n",
    "entry.query(\"team == 'home'\") \\\n",
    "    .plot(x='x', y='y', kind='scatter', ax=ax, color='blue', s=30, label='Home')\n",
    "entry.query(\"displayName == 'football'\") \\\n",
    "    .plot(x='x', y='y', kind='scatter', ax=ax, color='orange', s=50, label='Football')\n",
    "new_pd_df.plot(x='new_x', y='new_y', kind='scatter', ax=ax, color='pink', s=50, label='True next')\n",
    "pred_df.plot(x='predicted_x', y='predicted_y', kind='scatter', ax=ax, color='purple', s=50, label='Predicted next')\n",
    "plt.title('Plot Teams')\n",
    "plt.show()\n",
    "\n",
    "#fig, ax = plt.subplots(1, figsize=12, 6.33)\n",
    "\n",
    "fig2, ax2 = create_football_field()\n",
    "#fig2.set_size_inches(18.5, 10.5)\n",
    "ax2.xaxis.zoom(3)\n",
    "ax2.yaxis.zoom(1)\n",
    "#buffer=3\n",
    "#ax2.set_xlim(next_x-buffer, next_x+buffer)\n",
    "#plt.xlim(next_x-buffer, next_x+buffer)\n",
    "\n",
    "entry.query(\"team == 'away'\") \\\n",
    "    .plot(x='x', y='y', kind='scatter', ax=ax2, color='red', s=30, label='Away')\n",
    "entry.query(\"team == 'home'\") \\\n",
    "    .plot(x='x', y='y', kind='scatter', ax=ax2, color='blue', s=30, label='Home')\n",
    "entry.query(\"displayName == 'football'\") \\\n",
    "    .plot(x='x', y='y', kind='scatter', ax=ax2, color='orange', s=50, label='Football')\n",
    "new_pd_df.plot(x='new_x', y='new_y', kind='scatter', ax=ax2, color='pink', s=50, label='True next')\n",
    "pred_df.plot(x='predicted_x', y='predicted_y', kind='scatter', ax=ax2, color='purple', s=50, label='Predicted next')\n",
    "plt.title('Zoomed in')\n",
    "#buffer=3\n",
    "#plt.xlim(next_x-buffer, next_x+buffer)\n",
    "#plt.ylim(next_y-buffer, next_y+buffer)\n",
    "    \n",
    "plt.legend()\n",
    "plt.show()\n"
   ]
  },
  {
   "cell_type": "code",
   "execution_count": null,
   "id": "4fc1b784",
   "metadata": {},
   "outputs": [],
   "source": []
  },
  {
   "cell_type": "code",
   "execution_count": null,
   "id": "f185b053",
   "metadata": {},
   "outputs": [],
   "source": []
  },
  {
   "cell_type": "code",
   "execution_count": null,
   "id": "37dce2bc",
   "metadata": {},
   "outputs": [],
   "source": []
  },
  {
   "cell_type": "code",
   "execution_count": null,
   "id": "e20bf14b",
   "metadata": {},
   "outputs": [],
   "source": []
  },
  {
   "cell_type": "code",
   "execution_count": null,
   "id": "3b858adf",
   "metadata": {},
   "outputs": [],
   "source": []
  },
  {
   "cell_type": "code",
   "execution_count": null,
   "id": "8224073d",
   "metadata": {},
   "outputs": [],
   "source": []
  },
  {
   "cell_type": "code",
   "execution_count": null,
   "id": "faa7888a",
   "metadata": {},
   "outputs": [],
   "source": []
  }
 ],
 "metadata": {
  "kernelspec": {
   "display_name": "Python 3 (ipykernel)",
   "language": "python",
   "name": "python3"
  },
  "language_info": {
   "codemirror_mode": {
    "name": "ipython",
    "version": 3
   },
   "file_extension": ".py",
   "mimetype": "text/x-python",
   "name": "python",
   "nbconvert_exporter": "python",
   "pygments_lexer": "ipython3",
   "version": "3.9.7"
  }
 },
 "nbformat": 4,
 "nbformat_minor": 5
}
